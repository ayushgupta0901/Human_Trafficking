{
  "nbformat": 4,
  "nbformat_minor": 0,
  "metadata": {
    "colab": {
      "name": "final_file.ipynb",
      "provenance": [],
      "collapsed_sections": []
    },
    "kernelspec": {
      "name": "python3",
      "display_name": "Python 3"
    },
    "language_info": {
      "name": "python"
    }
  },
  "cells": [
    {
      "cell_type": "code",
      "metadata": {
        "execution": {
          "iopub.execute_input": "2021-10-04T10:44:34.488759Z",
          "iopub.status.busy": "2021-10-04T10:44:34.487946Z",
          "iopub.status.idle": "2021-10-04T10:44:40.991487Z",
          "shell.execute_reply": "2021-10-04T10:44:40.991015Z",
          "shell.execute_reply.started": "2021-10-04T05:14:58.921468Z"
        },
        "papermill": {
          "duration": 10.788212,
          "end_time": "2021-10-04T10:44:40.991623",
          "exception": false,
          "start_time": "2021-10-04T10:44:30.203411",
          "status": "completed"
        },
        "tags": [],
        "id": "26d55493",
        "outputId": "02be7cc8-dd2f-4170-fe5a-b06ae8ed4632"
      },
      "source": [
        "pip install faiss-cpu"
      ],
      "execution_count": null,
      "outputs": [
        {
          "name": "stdout",
          "output_type": "stream",
          "text": [
            "Requirement already satisfied: faiss-cpu in /opt/conda/lib/python3.7/site-packages (1.7.1.post2)\r\n",
            "\u001b[33mWARNING: Running pip as the 'root' user can result in broken permissions and conflicting behaviour with the system package manager. It is recommended to use a virtual environment instead: https://pip.pypa.io/warnings/venv\u001b[0m\r\n",
            "Note: you may need to restart the kernel to use updated packages.\n"
          ]
        }
      ]
    },
    {
      "cell_type": "code",
      "metadata": {
        "execution": {
          "iopub.execute_input": "2021-10-04T10:44:49.905365Z",
          "iopub.status.busy": "2021-10-04T10:44:49.904431Z",
          "iopub.status.idle": "2021-10-04T10:44:49.906300Z",
          "shell.execute_reply": "2021-10-04T10:44:49.906822Z",
          "shell.execute_reply.started": "2021-10-04T05:15:10.741102Z"
        },
        "id": "c4b37268",
        "papermill": {
          "duration": 4.041156,
          "end_time": "2021-10-04T10:44:49.906964",
          "exception": false,
          "start_time": "2021-10-04T10:44:45.865808",
          "status": "completed"
        },
        "tags": []
      },
      "source": [
        "import numpy as np\n",
        "import pandas as pd\n",
        "import tensorflow as tf\n",
        "from tensorflow.keras import Model\n",
        "import faiss\n",
        "import pickle\n",
        "from sklearn.preprocessing import LabelEncoder\n",
        "from sklearn.metrics.cluster import normalized_mutual_info_score"
      ],
      "execution_count": null,
      "outputs": []
    },
    {
      "cell_type": "code",
      "metadata": {
        "execution": {
          "iopub.execute_input": "2021-10-04T10:44:58.382615Z",
          "iopub.status.busy": "2021-10-04T10:44:58.381762Z",
          "iopub.status.idle": "2021-10-04T10:45:08.445523Z",
          "shell.execute_reply": "2021-10-04T10:45:08.445012Z",
          "shell.execute_reply.started": "2021-10-04T05:15:37.242764Z"
        },
        "papermill": {
          "duration": 14.427202,
          "end_time": "2021-10-04T10:45:08.445663",
          "exception": false,
          "start_time": "2021-10-04T10:44:54.018461",
          "status": "completed"
        },
        "tags": [],
        "id": "ac6b19c1"
      },
      "source": [
        "tf.keras.backend.clear_session()\n",
        "\n",
        "test_model = tf.keras.models.load_model('./test_model', compile=False)"
      ],
      "execution_count": null,
      "outputs": []
    },
    {
      "cell_type": "code",
      "metadata": {
        "execution": {
          "iopub.execute_input": "2021-10-04T10:45:17.289339Z",
          "iopub.status.busy": "2021-10-04T10:45:17.288519Z",
          "iopub.status.idle": "2021-10-04T10:45:17.294339Z",
          "shell.execute_reply": "2021-10-04T10:45:17.293529Z",
          "shell.execute_reply.started": "2021-10-04T05:16:37.320805Z"
        },
        "papermill": {
          "duration": 4.727408,
          "end_time": "2021-10-04T10:45:17.294520",
          "exception": false,
          "start_time": "2021-10-04T10:45:12.567112",
          "status": "completed"
        },
        "tags": [],
        "id": "25f8cb1e"
      },
      "source": [
        "def Actual_and_predict(final_image):\n",
        "\n",
        "    \n",
        "    image = tf.io.read_file(final_image)\n",
        "    \n",
        "    image = tf.image.decode_jpeg(image, channels=3)\n",
        "    \n",
        "    image = tf.image.resize(image, [64,64])\n",
        "    \n",
        "    image = tf.cast(image, tf.float32)\n",
        "    \n",
        "    image /= 255.0\n",
        "    \n",
        "    test_embeddings = test_model(np.expand_dims(image,0))\n",
        "    \n",
        "    norm = np.linalg.norm(test_embeddings, axis=1, keepdims=True)\n",
        "    test_embeddings = test_embeddingss / norm\n",
        "    \n",
        "    test_embeddings = test_embeddings.numpy()\n",
        "    \n",
        "    \n",
        "    index = faiss.read_index(\"../input/k-means-trained/kmeans_trained.index\")\n",
        "    \n",
        "    distances, indices = index.search(test_embeddingss,5)\n",
        "    \n",
        "    with open('./labelencoder.pkl', \"rb\") as input_file:\n",
        "        le = pickle.load(input_file)\n",
        "    \n",
        "    actual_output_labels = le.inverse_transform(indices[0])\n",
        "    \n",
        "    return actual_output_labels"
      ],
      "execution_count": null,
      "outputs": []
    },
    {
      "cell_type": "code",
      "metadata": {
        "execution": {
          "iopub.execute_input": "2021-10-04T10:45:25.520301Z",
          "iopub.status.busy": "2021-10-04T10:45:25.519402Z",
          "iopub.status.idle": "2021-10-04T10:45:25.522012Z",
          "shell.execute_reply": "2021-10-04T10:45:25.521577Z",
          "shell.execute_reply.started": "2021-10-04T05:16:54.238981Z"
        },
        "papermill": {
          "duration": 4.155696,
          "end_time": "2021-10-04T10:45:25.522125",
          "exception": false,
          "start_time": "2021-10-04T10:45:21.366429",
          "status": "completed"
        },
        "tags": [],
        "id": "b4ba2304"
      },
      "source": [
        "def predict_error(final_image,actual_y):\n",
        "    \n",
        "    pred_labels = Actual_and_predict(final_image)\n",
        "    \n",
        "    pred_labels = pred_labels.squeeze()\n",
        "    \n",
        "    score = normalized_mutual_info_score(actual_y, np.array([pred_labels[0]]))\n",
        "    \n",
        "    with open(\"../input/k-means-error/kmeans_error.pkl\", \"rb\") as f:\n",
        "        total_error = pickle.load(f)\n",
        "    \n",
        "    \n",
        "    return total_error, score"
      ],
      "execution_count": null,
      "outputs": []
    },
    {
      "cell_type": "code",
      "metadata": {
        "execution": {
          "iopub.execute_input": "2021-10-04T10:45:34.220922Z",
          "iopub.status.busy": "2021-10-04T10:45:34.220019Z",
          "iopub.status.idle": "2021-10-04T10:45:34.222000Z",
          "shell.execute_reply": "2021-10-04T10:45:34.222461Z",
          "shell.execute_reply.started": "2021-10-04T05:28:41.924381Z"
        },
        "papermill": {
          "duration": 4.293515,
          "end_time": "2021-10-04T10:45:34.222600",
          "exception": false,
          "start_time": "2021-10-04T10:45:29.929085",
          "status": "completed"
        },
        "tags": [],
        "id": "11369c74"
      },
      "source": [
        "final_image = '../input/final-image/8007fa0a8fe89f9d.jpg'\n",
        "\n",
        "actual_y = np.array([63866])"
      ],
      "execution_count": null,
      "outputs": []
    },
    {
      "cell_type": "code",
      "metadata": {
        "execution": {
          "iopub.execute_input": "2021-10-04T10:45:42.605558Z",
          "iopub.status.busy": "2021-10-04T10:45:42.605026Z",
          "iopub.status.idle": "2021-10-04T10:45:42.846276Z",
          "shell.execute_reply": "2021-10-04T10:45:42.847094Z",
          "shell.execute_reply.started": "2021-10-04T05:28:57.571028Z"
        },
        "papermill": {
          "duration": 4.534273,
          "end_time": "2021-10-04T10:45:42.847279",
          "exception": false,
          "start_time": "2021-10-04T10:45:38.313006",
          "status": "completed"
        },
        "tags": [],
        "id": "568f818c",
        "outputId": "0c911d21-a760-43c5-f390-399c9a731b5a"
      },
      "source": [
        "Actual_and_predict(final_image)"
      ],
      "execution_count": null,
      "outputs": [
        {
          "data": {
            "text/plain": [
              "array([21020, 58967,  4660, 32857, 42637])"
            ]
          },
          "execution_count": 108,
          "metadata": {},
          "output_type": "execute_result"
        }
      ]
    },
    {
      "cell_type": "code",
      "metadata": {
        "execution": {
          "iopub.execute_input": "2021-10-04T10:45:51.893813Z",
          "iopub.status.busy": "2021-10-04T10:45:51.893209Z",
          "iopub.status.idle": "2021-10-04T10:45:51.977723Z",
          "shell.execute_reply": "2021-10-04T10:45:51.978419Z",
          "shell.execute_reply.started": "2021-10-04T05:29:22.214827Z"
        },
        "papermill": {
          "duration": 4.873366,
          "end_time": "2021-10-04T10:45:51.978575",
          "exception": false,
          "start_time": "2021-10-04T10:45:47.105209",
          "status": "completed"
        },
        "tags": [],
        "id": "191cc48f",
        "outputId": "f8f1c16b-1b8b-4b8b-eec9-3d090e7c96b1"
      },
      "source": [
        "predict_error(final_image,actual_y)"
      ],
      "execution_count": null,
      "outputs": [
        {
          "data": {
            "text/plain": [
              "(21610.96484375, 1.0)"
            ]
          },
          "execution_count": 109,
          "metadata": {},
          "output_type": "execute_result"
        }
      ]
    },
    {
      "cell_type": "code",
      "metadata": {
        "papermill": {
          "duration": 4.115775,
          "end_time": "2021-10-04T10:46:00.164783",
          "exception": false,
          "start_time": "2021-10-04T10:45:56.049008",
          "status": "completed"
        },
        "tags": [],
        "id": "843dcad2"
      },
      "source": [
        ""
      ],
      "execution_count": null,
      "outputs": []
    }
  ]
}
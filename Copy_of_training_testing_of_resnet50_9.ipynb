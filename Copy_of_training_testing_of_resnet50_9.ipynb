{
  "nbformat": 4,
  "nbformat_minor": 5,
  "metadata": {
    "kernelspec": {
      "display_name": "Python 3",
      "language": "python",
      "name": "python3"
    },
    "language_info": {
      "codemirror_mode": {
        "name": "ipython",
        "version": 3
      },
      "file_extension": ".py",
      "mimetype": "text/x-python",
      "name": "python",
      "nbconvert_exporter": "python",
      "pygments_lexer": "ipython3",
      "version": "3.7.10"
    },
    "papermill": {
      "default_parameters": {},
      "duration": 18970.982418,
      "end_time": "2021-10-04T10:46:08.036601",
      "environment_variables": {},
      "exception": null,
      "input_path": "__notebook__.ipynb",
      "output_path": "__notebook__.ipynb",
      "parameters": {},
      "start_time": "2021-10-04T05:29:57.054183",
      "version": "2.3.3"
    },
    "colab": {
      "name": "Copy of training-testing-of-resnet50-9.ipynb",
      "provenance": [],
      "collapsed_sections": []
    }
  },
  "cells": [
    {
      "cell_type": "code",
      "metadata": {
        "execution": {
          "iopub.execute_input": "2021-10-04T05:30:04.117910Z",
          "iopub.status.busy": "2021-10-04T05:30:04.116467Z",
          "iopub.status.idle": "2021-10-04T05:30:08.406947Z",
          "shell.execute_reply": "2021-10-04T05:30:08.407456Z",
          "shell.execute_reply.started": "2021-10-04T05:01:17.695796Z"
        },
        "id": "26054401",
        "papermill": {
          "duration": 4.368634,
          "end_time": "2021-10-04T05:30:08.407739",
          "exception": false,
          "start_time": "2021-10-04T05:30:04.039105",
          "status": "completed"
        },
        "tags": [],
        "outputId": "a77fbec8-b541-44a4-a1f5-c3ed93350f44"
      },
      "source": [
        "import numpy as np\n",
        "import pandas as pd\n",
        "import tensorflow as tf\n",
        "import os\n",
        "import math"
      ],
      "id": "26054401",
      "execution_count": null,
      "outputs": [
        {
          "name": "stderr",
          "output_type": "stream",
          "text": [
            "2021-10-04 05:30:04.670141: I tensorflow/stream_executor/platform/default/dso_loader.cc:49] Successfully opened dynamic library libcudart.so.11.0\n"
          ]
        }
      ]
    },
    {
      "cell_type": "code",
      "metadata": {
        "execution": {
          "iopub.execute_input": "2021-10-04T05:30:08.557898Z",
          "iopub.status.busy": "2021-10-04T05:30:08.557054Z",
          "iopub.status.idle": "2021-10-04T05:30:08.563485Z",
          "shell.execute_reply": "2021-10-04T05:30:08.563881Z",
          "shell.execute_reply.started": "2021-10-04T05:02:16.808286Z"
        },
        "id": "b480ecf2",
        "papermill": {
          "duration": 0.08246,
          "end_time": "2021-10-04T05:30:08.564006",
          "exception": false,
          "start_time": "2021-10-04T05:30:08.481546",
          "status": "completed"
        },
        "tags": [],
        "outputId": "1f1d05c0-1454-417c-a0d8-6dd28bf0211a"
      },
      "source": [
        "os.listdir('../input/hotel-id-2021-fgvc8')"
      ],
      "id": "b480ecf2",
      "execution_count": null,
      "outputs": [
        {
          "data": {
            "text/plain": [
              "['sample_submission.csv', 'train_images', 'train.csv', 'test_images']"
            ]
          },
          "execution_count": 2,
          "metadata": {},
          "output_type": "execute_result"
        }
      ]
    },
    {
      "cell_type": "code",
      "metadata": {
        "execution": {
          "iopub.execute_input": "2021-10-04T05:30:08.712414Z",
          "iopub.status.busy": "2021-10-04T05:30:08.711818Z",
          "iopub.status.idle": "2021-10-04T05:30:08.943063Z",
          "shell.execute_reply": "2021-10-04T05:30:08.943457Z",
          "shell.execute_reply.started": "2021-10-04T05:02:17.773796Z"
        },
        "id": "16bbfa2e",
        "papermill": {
          "duration": 0.307325,
          "end_time": "2021-10-04T05:30:08.943607",
          "exception": false,
          "start_time": "2021-10-04T05:30:08.636282",
          "status": "completed"
        },
        "tags": [],
        "outputId": "8da4f0a0-18f9-4653-f5a9-14e1bb12107f"
      },
      "source": [
        "df = pd.read_csv('../input/hotel-id-2021-fgvc8/train.csv')\n",
        "df.head()"
      ],
      "id": "16bbfa2e",
      "execution_count": null,
      "outputs": [
        {
          "data": {
            "text/html": [
              "<div>\n",
              "<style scoped>\n",
              "    .dataframe tbody tr th:only-of-type {\n",
              "        vertical-align: middle;\n",
              "    }\n",
              "\n",
              "    .dataframe tbody tr th {\n",
              "        vertical-align: top;\n",
              "    }\n",
              "\n",
              "    .dataframe thead th {\n",
              "        text-align: right;\n",
              "    }\n",
              "</style>\n",
              "<table border=\"1\" class=\"dataframe\">\n",
              "  <thead>\n",
              "    <tr style=\"text-align: right;\">\n",
              "      <th></th>\n",
              "      <th>image</th>\n",
              "      <th>chain</th>\n",
              "      <th>hotel_id</th>\n",
              "      <th>timestamp</th>\n",
              "    </tr>\n",
              "  </thead>\n",
              "  <tbody>\n",
              "    <tr>\n",
              "      <th>0</th>\n",
              "      <td>8000d59f6a3d765f.jpg</td>\n",
              "      <td>85</td>\n",
              "      <td>24607</td>\n",
              "      <td>2018-11-28 05:42:31</td>\n",
              "    </tr>\n",
              "    <tr>\n",
              "      <th>1</th>\n",
              "      <td>8000febe81817f7f.jpg</td>\n",
              "      <td>6</td>\n",
              "      <td>25389</td>\n",
              "      <td>2017-01-01 07:01:46</td>\n",
              "    </tr>\n",
              "    <tr>\n",
              "      <th>2</th>\n",
              "      <td>80053befc2d42fba.jpg</td>\n",
              "      <td>3</td>\n",
              "      <td>672</td>\n",
              "      <td>2018-01-26 13:22:07</td>\n",
              "    </tr>\n",
              "    <tr>\n",
              "      <th>3</th>\n",
              "      <td>8007fa0a8fe89f9d.jpg</td>\n",
              "      <td>5</td>\n",
              "      <td>63866</td>\n",
              "      <td>2020-07-03 02:31:31</td>\n",
              "    </tr>\n",
              "    <tr>\n",
              "      <th>4</th>\n",
              "      <td>800a4a6b6f6d2df6.jpg</td>\n",
              "      <td>0</td>\n",
              "      <td>12036</td>\n",
              "      <td>2017-09-22 17:59:22</td>\n",
              "    </tr>\n",
              "  </tbody>\n",
              "</table>\n",
              "</div>"
            ],
            "text/plain": [
              "                  image  chain  hotel_id            timestamp\n",
              "0  8000d59f6a3d765f.jpg     85     24607  2018-11-28 05:42:31\n",
              "1  8000febe81817f7f.jpg      6     25389  2017-01-01 07:01:46\n",
              "2  80053befc2d42fba.jpg      3       672  2018-01-26 13:22:07\n",
              "3  8007fa0a8fe89f9d.jpg      5     63866  2020-07-03 02:31:31\n",
              "4  800a4a6b6f6d2df6.jpg      0     12036  2017-09-22 17:59:22"
            ]
          },
          "execution_count": 3,
          "metadata": {},
          "output_type": "execute_result"
        }
      ]
    },
    {
      "cell_type": "code",
      "metadata": {
        "execution": {
          "iopub.execute_input": "2021-10-04T05:30:09.094562Z",
          "iopub.status.busy": "2021-10-04T05:30:09.093994Z",
          "iopub.status.idle": "2021-10-04T05:30:09.096982Z",
          "shell.execute_reply": "2021-10-04T05:30:09.097423Z",
          "shell.execute_reply.started": "2021-10-04T05:02:18.268667Z"
        },
        "id": "dc0216f5",
        "papermill": {
          "duration": 0.080651,
          "end_time": "2021-10-04T05:30:09.097561",
          "exception": false,
          "start_time": "2021-10-04T05:30:09.016910",
          "status": "completed"
        },
        "tags": []
      },
      "source": [
        "train_images ='../input/hotel-id-2021-fgvc8/train_images/'"
      ],
      "id": "dc0216f5",
      "execution_count": null,
      "outputs": []
    },
    {
      "cell_type": "code",
      "metadata": {
        "execution": {
          "iopub.execute_input": "2021-10-04T05:30:09.249986Z",
          "iopub.status.busy": "2021-10-04T05:30:09.249214Z",
          "iopub.status.idle": "2021-10-04T05:30:09.421956Z",
          "shell.execute_reply": "2021-10-04T05:30:09.422367Z",
          "shell.execute_reply.started": "2021-10-04T05:02:18.784270Z"
        },
        "id": "ae08e497",
        "papermill": {
          "duration": 0.252019,
          "end_time": "2021-10-04T05:30:09.422519",
          "exception": false,
          "start_time": "2021-10-04T05:30:09.170500",
          "status": "completed"
        },
        "tags": [],
        "outputId": "8a83b3cb-bad8-43c4-9030-6277d7761ec1"
      },
      "source": [
        "df['train_images']= train_images + df.chain.astype(str) +'/'+ df.image\n",
        "df.head()"
      ],
      "id": "ae08e497",
      "execution_count": null,
      "outputs": [
        {
          "data": {
            "text/html": [
              "<div>\n",
              "<style scoped>\n",
              "    .dataframe tbody tr th:only-of-type {\n",
              "        vertical-align: middle;\n",
              "    }\n",
              "\n",
              "    .dataframe tbody tr th {\n",
              "        vertical-align: top;\n",
              "    }\n",
              "\n",
              "    .dataframe thead th {\n",
              "        text-align: right;\n",
              "    }\n",
              "</style>\n",
              "<table border=\"1\" class=\"dataframe\">\n",
              "  <thead>\n",
              "    <tr style=\"text-align: right;\">\n",
              "      <th></th>\n",
              "      <th>image</th>\n",
              "      <th>chain</th>\n",
              "      <th>hotel_id</th>\n",
              "      <th>timestamp</th>\n",
              "      <th>train_images</th>\n",
              "    </tr>\n",
              "  </thead>\n",
              "  <tbody>\n",
              "    <tr>\n",
              "      <th>0</th>\n",
              "      <td>8000d59f6a3d765f.jpg</td>\n",
              "      <td>85</td>\n",
              "      <td>24607</td>\n",
              "      <td>2018-11-28 05:42:31</td>\n",
              "      <td>../input/hotel-id-2021-fgvc8/train_images/85/8...</td>\n",
              "    </tr>\n",
              "    <tr>\n",
              "      <th>1</th>\n",
              "      <td>8000febe81817f7f.jpg</td>\n",
              "      <td>6</td>\n",
              "      <td>25389</td>\n",
              "      <td>2017-01-01 07:01:46</td>\n",
              "      <td>../input/hotel-id-2021-fgvc8/train_images/6/80...</td>\n",
              "    </tr>\n",
              "    <tr>\n",
              "      <th>2</th>\n",
              "      <td>80053befc2d42fba.jpg</td>\n",
              "      <td>3</td>\n",
              "      <td>672</td>\n",
              "      <td>2018-01-26 13:22:07</td>\n",
              "      <td>../input/hotel-id-2021-fgvc8/train_images/3/80...</td>\n",
              "    </tr>\n",
              "    <tr>\n",
              "      <th>3</th>\n",
              "      <td>8007fa0a8fe89f9d.jpg</td>\n",
              "      <td>5</td>\n",
              "      <td>63866</td>\n",
              "      <td>2020-07-03 02:31:31</td>\n",
              "      <td>../input/hotel-id-2021-fgvc8/train_images/5/80...</td>\n",
              "    </tr>\n",
              "    <tr>\n",
              "      <th>4</th>\n",
              "      <td>800a4a6b6f6d2df6.jpg</td>\n",
              "      <td>0</td>\n",
              "      <td>12036</td>\n",
              "      <td>2017-09-22 17:59:22</td>\n",
              "      <td>../input/hotel-id-2021-fgvc8/train_images/0/80...</td>\n",
              "    </tr>\n",
              "  </tbody>\n",
              "</table>\n",
              "</div>"
            ],
            "text/plain": [
              "                  image  chain  hotel_id            timestamp  \\\n",
              "0  8000d59f6a3d765f.jpg     85     24607  2018-11-28 05:42:31   \n",
              "1  8000febe81817f7f.jpg      6     25389  2017-01-01 07:01:46   \n",
              "2  80053befc2d42fba.jpg      3       672  2018-01-26 13:22:07   \n",
              "3  8007fa0a8fe89f9d.jpg      5     63866  2020-07-03 02:31:31   \n",
              "4  800a4a6b6f6d2df6.jpg      0     12036  2017-09-22 17:59:22   \n",
              "\n",
              "                                        train_images  \n",
              "0  ../input/hotel-id-2021-fgvc8/train_images/85/8...  \n",
              "1  ../input/hotel-id-2021-fgvc8/train_images/6/80...  \n",
              "2  ../input/hotel-id-2021-fgvc8/train_images/3/80...  \n",
              "3  ../input/hotel-id-2021-fgvc8/train_images/5/80...  \n",
              "4  ../input/hotel-id-2021-fgvc8/train_images/0/80...  "
            ]
          },
          "execution_count": 5,
          "metadata": {},
          "output_type": "execute_result"
        }
      ]
    },
    {
      "cell_type": "code",
      "metadata": {
        "execution": {
          "iopub.execute_input": "2021-10-04T05:30:09.579527Z",
          "iopub.status.busy": "2021-10-04T05:30:09.578944Z",
          "iopub.status.idle": "2021-10-04T05:30:09.581970Z",
          "shell.execute_reply": "2021-10-04T05:30:09.582374Z",
          "shell.execute_reply.started": "2021-10-04T05:02:19.295982Z"
        },
        "id": "21770fe6",
        "papermill": {
          "duration": 0.086411,
          "end_time": "2021-10-04T05:30:09.582500",
          "exception": false,
          "start_time": "2021-10-04T05:30:09.496089",
          "status": "completed"
        },
        "tags": [],
        "outputId": "4b3d44db-2854-4950-bdb3-f8ee92d9ddc6"
      },
      "source": [
        "df_dash = df[:100]\n",
        "df_dash.head()"
      ],
      "id": "21770fe6",
      "execution_count": null,
      "outputs": [
        {
          "data": {
            "text/html": [
              "<div>\n",
              "<style scoped>\n",
              "    .dataframe tbody tr th:only-of-type {\n",
              "        vertical-align: middle;\n",
              "    }\n",
              "\n",
              "    .dataframe tbody tr th {\n",
              "        vertical-align: top;\n",
              "    }\n",
              "\n",
              "    .dataframe thead th {\n",
              "        text-align: right;\n",
              "    }\n",
              "</style>\n",
              "<table border=\"1\" class=\"dataframe\">\n",
              "  <thead>\n",
              "    <tr style=\"text-align: right;\">\n",
              "      <th></th>\n",
              "      <th>image</th>\n",
              "      <th>chain</th>\n",
              "      <th>hotel_id</th>\n",
              "      <th>timestamp</th>\n",
              "      <th>train_images</th>\n",
              "    </tr>\n",
              "  </thead>\n",
              "  <tbody>\n",
              "    <tr>\n",
              "      <th>0</th>\n",
              "      <td>8000d59f6a3d765f.jpg</td>\n",
              "      <td>85</td>\n",
              "      <td>24607</td>\n",
              "      <td>2018-11-28 05:42:31</td>\n",
              "      <td>../input/hotel-id-2021-fgvc8/train_images/85/8...</td>\n",
              "    </tr>\n",
              "    <tr>\n",
              "      <th>1</th>\n",
              "      <td>8000febe81817f7f.jpg</td>\n",
              "      <td>6</td>\n",
              "      <td>25389</td>\n",
              "      <td>2017-01-01 07:01:46</td>\n",
              "      <td>../input/hotel-id-2021-fgvc8/train_images/6/80...</td>\n",
              "    </tr>\n",
              "    <tr>\n",
              "      <th>2</th>\n",
              "      <td>80053befc2d42fba.jpg</td>\n",
              "      <td>3</td>\n",
              "      <td>672</td>\n",
              "      <td>2018-01-26 13:22:07</td>\n",
              "      <td>../input/hotel-id-2021-fgvc8/train_images/3/80...</td>\n",
              "    </tr>\n",
              "    <tr>\n",
              "      <th>3</th>\n",
              "      <td>8007fa0a8fe89f9d.jpg</td>\n",
              "      <td>5</td>\n",
              "      <td>63866</td>\n",
              "      <td>2020-07-03 02:31:31</td>\n",
              "      <td>../input/hotel-id-2021-fgvc8/train_images/5/80...</td>\n",
              "    </tr>\n",
              "    <tr>\n",
              "      <th>4</th>\n",
              "      <td>800a4a6b6f6d2df6.jpg</td>\n",
              "      <td>0</td>\n",
              "      <td>12036</td>\n",
              "      <td>2017-09-22 17:59:22</td>\n",
              "      <td>../input/hotel-id-2021-fgvc8/train_images/0/80...</td>\n",
              "    </tr>\n",
              "  </tbody>\n",
              "</table>\n",
              "</div>"
            ],
            "text/plain": [
              "                  image  chain  hotel_id            timestamp  \\\n",
              "0  8000d59f6a3d765f.jpg     85     24607  2018-11-28 05:42:31   \n",
              "1  8000febe81817f7f.jpg      6     25389  2017-01-01 07:01:46   \n",
              "2  80053befc2d42fba.jpg      3       672  2018-01-26 13:22:07   \n",
              "3  8007fa0a8fe89f9d.jpg      5     63866  2020-07-03 02:31:31   \n",
              "4  800a4a6b6f6d2df6.jpg      0     12036  2017-09-22 17:59:22   \n",
              "\n",
              "                                        train_images  \n",
              "0  ../input/hotel-id-2021-fgvc8/train_images/85/8...  \n",
              "1  ../input/hotel-id-2021-fgvc8/train_images/6/80...  \n",
              "2  ../input/hotel-id-2021-fgvc8/train_images/3/80...  \n",
              "3  ../input/hotel-id-2021-fgvc8/train_images/5/80...  \n",
              "4  ../input/hotel-id-2021-fgvc8/train_images/0/80...  "
            ]
          },
          "execution_count": 6,
          "metadata": {},
          "output_type": "execute_result"
        }
      ]
    },
    {
      "cell_type": "code",
      "metadata": {
        "execution": {
          "iopub.execute_input": "2021-10-04T05:30:09.732347Z",
          "iopub.status.busy": "2021-10-04T05:30:09.731792Z",
          "iopub.status.idle": "2021-10-04T05:30:09.737181Z",
          "shell.execute_reply": "2021-10-04T05:30:09.736782Z",
          "shell.execute_reply.started": "2021-10-04T05:02:19.728023Z"
        },
        "id": "0ed17d53",
        "papermill": {
          "duration": 0.081805,
          "end_time": "2021-10-04T05:30:09.737304",
          "exception": false,
          "start_time": "2021-10-04T05:30:09.655499",
          "status": "completed"
        },
        "tags": [],
        "outputId": "387cbf73-5e36-447b-bdba-ed13d415f16e"
      },
      "source": [
        "df_dash.shape"
      ],
      "id": "0ed17d53",
      "execution_count": null,
      "outputs": [
        {
          "data": {
            "text/plain": [
              "(100, 5)"
            ]
          },
          "execution_count": 7,
          "metadata": {},
          "output_type": "execute_result"
        }
      ]
    },
    {
      "cell_type": "markdown",
      "metadata": {
        "id": "35dccc92",
        "papermill": {
          "duration": 0.074551,
          "end_time": "2021-10-04T05:30:09.885514",
          "exception": false,
          "start_time": "2021-10-04T05:30:09.810963",
          "status": "completed"
        },
        "tags": []
      },
      "source": [
        "print random images to see that my train images is showing or not"
      ],
      "id": "35dccc92"
    },
    {
      "cell_type": "code",
      "metadata": {
        "execution": {
          "iopub.execute_input": "2021-10-04T05:30:10.039497Z",
          "iopub.status.busy": "2021-10-04T05:30:10.038944Z",
          "iopub.status.idle": "2021-10-04T05:30:10.042266Z",
          "shell.execute_reply": "2021-10-04T05:30:10.042631Z",
          "shell.execute_reply.started": "2021-10-04T05:02:20.579329Z"
        },
        "id": "2eea3ee3",
        "papermill": {
          "duration": 0.082174,
          "end_time": "2021-10-04T05:30:10.042755",
          "exception": false,
          "start_time": "2021-10-04T05:30:09.960581",
          "status": "completed"
        },
        "tags": []
      },
      "source": [
        "# import required libraries\n",
        "import random\n",
        "from IPython.core.display import Image\n",
        "from IPython.display import display"
      ],
      "id": "2eea3ee3",
      "execution_count": null,
      "outputs": []
    },
    {
      "cell_type": "code",
      "metadata": {
        "execution": {
          "iopub.execute_input": "2021-10-04T05:30:10.205921Z",
          "iopub.status.busy": "2021-10-04T05:30:10.205416Z",
          "iopub.status.idle": "2021-10-04T05:30:10.305018Z",
          "shell.execute_reply": "2021-10-04T05:30:10.304573Z",
          "shell.execute_reply.started": "2021-10-04T05:02:21.286343Z"
        },
        "id": "3d59fb19",
        "papermill": {
          "duration": 0.188696,
          "end_time": "2021-10-04T05:30:10.305126",
          "exception": false,
          "start_time": "2021-10-04T05:30:10.116430",
          "status": "completed"
        },
        "tags": [],
        "outputId": "b59197c0-c477-4887-abdd-7e0b3d900f09"
      },
      "source": [
        "for n in range(3):\n",
        "    tr_image = random.choice(list(df['train_images']))\n",
        "    print(tr_image)\n",
        "    display(Image(tr_image,width=400,height=400))\n",
        "    print('\\n')"
      ],
      "id": "3d59fb19",
      "execution_count": null,
      "outputs": [
        {
          "name": "stdout",
          "output_type": "stream",
          "text": [
            "../input/hotel-id-2021-fgvc8/train_images/5/91ab916a2cbbcea4.jpg\n"
          ]
        },
        {
          "data": {
            "image/jpeg": "[encoded data removed]",
            "text/plain": [
              "<IPython.core.display.Image object>"
            ]
          },
          "metadata": {
            "image/jpeg": {
              "height": 400,
              "width": 400
            }
          },
          "output_type": "display_data"
        },
        {
          "name": "stdout",
          "output_type": "stream",
          "text": [
            "\n",
            "\n",
            "../input/hotel-id-2021-fgvc8/train_images/37/9190fc656f067e68.jpg\n"
          ]
        },
        {
          "data": {
            "image/jpeg": "[encoded data removed]",
            "text/plain": [
              "<IPython.core.display.Image object>"
            ]
          },
          "metadata": {
            "image/jpeg": {
              "height": 400,
              "width": 400
            }
          },
          "output_type": "display_data"
        },
        {
          "name": "stdout",
          "output_type": "stream",
          "text": [
            "\n",
            "\n",
            "../input/hotel-id-2021-fgvc8/train_images/87/a7eb6141078ff2d0.jpg\n"
          ]
        },
        {
          "data": {
            "image/jpeg": "[encoded data removed]",
            "text/plain": [
              "<IPython.core.display.Image object>"
            ]
          },
          "metadata": {
            "image/jpeg": {
              "height": 400,
              "width": 400
            }
          },
          "output_type": "display_data"
        },
        {
          "name": "stdout",
          "output_type": "stream",
          "text": [
            "\n",
            "\n"
          ]
        }
      ]
    },
    {
      "cell_type": "code",
      "metadata": {
        "execution": {
          "iopub.execute_input": "2021-10-04T05:30:10.474481Z",
          "iopub.status.busy": "2021-10-04T05:30:10.473688Z",
          "iopub.status.idle": "2021-10-04T05:30:10.478884Z",
          "shell.execute_reply": "2021-10-04T05:30:10.479267Z",
          "shell.execute_reply.started": "2021-10-04T05:02:21.796047Z"
        },
        "id": "2bae0b92",
        "papermill": {
          "duration": 0.09104,
          "end_time": "2021-10-04T05:30:10.479440",
          "exception": false,
          "start_time": "2021-10-04T05:30:10.388400",
          "status": "completed"
        },
        "tags": []
      },
      "source": [
        "def train_images_reading(path,labels):\n",
        "    \n",
        "    images = tf.io.read_file(path)\n",
        "    \n",
        "    images = tf.image.decode_jpeg(images, channels=3)\n",
        "    \n",
        "    images = tf.image.resize(images, [64,64])\n",
        "    \n",
        "    images = tf.cast(images, tf.float32)\n",
        "    \n",
        "    images /= 255.0\n",
        "    \n",
        "    return(images,labels)"
      ],
      "id": "2bae0b92",
      "execution_count": null,
      "outputs": []
    },
    {
      "cell_type": "code",
      "metadata": {
        "execution": {
          "iopub.execute_input": "2021-10-04T05:30:10.651280Z",
          "iopub.status.busy": "2021-10-04T05:30:10.650666Z",
          "iopub.status.idle": "2021-10-04T05:30:10.652969Z",
          "shell.execute_reply": "2021-10-04T05:30:10.653352Z",
          "shell.execute_reply.started": "2021-10-04T05:02:22.182369Z"
        },
        "id": "3bf53828",
        "papermill": {
          "duration": 0.091489,
          "end_time": "2021-10-04T05:30:10.653475",
          "exception": false,
          "start_time": "2021-10-04T05:30:10.561986",
          "status": "completed"
        },
        "tags": []
      },
      "source": [
        "# data augmentation techniques on image used from this colab file \n",
        "#https://colab.research.google.com/github/tensorflow/docs/blob/master/site/en/tutorials/images/data_augmentation.ipynb\n",
        "def train_images_preprocessing(images, labels):\n",
        "    \n",
        "    images = tf.image.stateless_random_flip_left_right(images,seed=(12,10))\n",
        "    \n",
        "    images = tf.image.stateless_random_flip_up_down(images,seed=(12,10))\n",
        "    \n",
        "    images = tf.image.rot90(images)\n",
        "    \n",
        "    images = tf.image.stateless_random_brightness(images, max_delta=16.0 / 255.0,seed=(12,10))\n",
        "    \n",
        "    images = tf.image.stateless_random_saturation(images, lower=0.8, upper=1.3,seed=(12,10))\n",
        "    \n",
        "    images = tf.image.stateless_random_hue(images, 0.2,seed=(12,10))\n",
        "\n",
        "    #Make sure the image is still in [0, 1]\n",
        "    images = tf.clip_by_value(images, 0.0, 1.0)\n",
        "\n",
        "    return (images, labels) , labels"
      ],
      "id": "3bf53828",
      "execution_count": null,
      "outputs": []
    },
    {
      "cell_type": "code",
      "metadata": {
        "execution": {
          "iopub.execute_input": "2021-10-04T05:30:10.823236Z",
          "iopub.status.busy": "2021-10-04T05:30:10.822570Z",
          "iopub.status.idle": "2021-10-04T05:30:11.342741Z",
          "shell.execute_reply": "2021-10-04T05:30:11.342233Z",
          "shell.execute_reply.started": "2021-10-04T05:02:22.670937Z"
        },
        "id": "e241f36e",
        "papermill": {
          "duration": 0.607227,
          "end_time": "2021-10-04T05:30:11.342871",
          "exception": false,
          "start_time": "2021-10-04T05:30:10.735644",
          "status": "completed"
        },
        "tags": []
      },
      "source": [
        "# import library for performing Label Encoding on hotel ids\n",
        "from sklearn.preprocessing import LabelEncoder"
      ],
      "id": "e241f36e",
      "execution_count": null,
      "outputs": []
    },
    {
      "cell_type": "code",
      "metadata": {
        "execution": {
          "iopub.execute_input": "2021-10-04T05:30:11.516013Z",
          "iopub.status.busy": "2021-10-04T05:30:11.515160Z",
          "iopub.status.idle": "2021-10-04T05:30:11.527604Z",
          "shell.execute_reply": "2021-10-04T05:30:11.527967Z",
          "shell.execute_reply.started": "2021-10-04T05:02:23.218276Z"
        },
        "id": "684aa1b3",
        "papermill": {
          "duration": 0.101838,
          "end_time": "2021-10-04T05:30:11.528099",
          "exception": false,
          "start_time": "2021-10-04T05:30:11.426261",
          "status": "completed"
        },
        "tags": []
      },
      "source": [
        "labelencoder = LabelEncoder()\n",
        "df['hotel_id'] = labelencoder.fit_transform(df['hotel_id'])"
      ],
      "id": "684aa1b3",
      "execution_count": null,
      "outputs": []
    },
    {
      "cell_type": "code",
      "metadata": {
        "execution": {
          "iopub.execute_input": "2021-10-04T05:30:11.698143Z",
          "iopub.status.busy": "2021-10-04T05:30:11.697639Z",
          "iopub.status.idle": "2021-10-04T05:30:11.703050Z",
          "shell.execute_reply": "2021-10-04T05:30:11.702660Z",
          "shell.execute_reply.started": "2021-10-04T05:02:23.844082Z"
        },
        "id": "604803ba",
        "papermill": {
          "duration": 0.09172,
          "end_time": "2021-10-04T05:30:11.703164",
          "exception": false,
          "start_time": "2021-10-04T05:30:11.611444",
          "status": "completed"
        },
        "tags": [],
        "outputId": "7fc51e72-86d5-4b7e-f424-5bc1502010bd"
      },
      "source": [
        "labelencoder.classes_"
      ],
      "id": "604803ba",
      "execution_count": null,
      "outputs": [
        {
          "data": {
            "text/plain": [
              "array([   12,    24,    44, ..., 65497, 65521, 65527])"
            ]
          },
          "execution_count": 14,
          "metadata": {},
          "output_type": "execute_result"
        }
      ]
    },
    {
      "cell_type": "code",
      "metadata": {
        "execution": {
          "iopub.execute_input": "2021-10-04T05:30:11.872328Z",
          "iopub.status.busy": "2021-10-04T05:30:11.871789Z",
          "iopub.status.idle": "2021-10-04T05:30:11.875432Z",
          "shell.execute_reply": "2021-10-04T05:30:11.875902Z",
          "shell.execute_reply.started": "2021-10-04T05:02:24.312286Z"
        },
        "id": "679197fb",
        "papermill": {
          "duration": 0.090157,
          "end_time": "2021-10-04T05:30:11.876029",
          "exception": false,
          "start_time": "2021-10-04T05:30:11.785872",
          "status": "completed"
        },
        "tags": []
      },
      "source": [
        "import pickle"
      ],
      "id": "679197fb",
      "execution_count": null,
      "outputs": []
    },
    {
      "cell_type": "code",
      "metadata": {
        "execution": {
          "iopub.execute_input": "2021-10-04T05:30:12.046417Z",
          "iopub.status.busy": "2021-10-04T05:30:12.045865Z",
          "iopub.status.idle": "2021-10-04T05:30:12.049509Z",
          "shell.execute_reply": "2021-10-04T05:30:12.049886Z",
          "shell.execute_reply.started": "2021-10-04T05:02:24.730223Z"
        },
        "id": "7d313bf9",
        "papermill": {
          "duration": 0.091098,
          "end_time": "2021-10-04T05:30:12.050013",
          "exception": false,
          "start_time": "2021-10-04T05:30:11.958915",
          "status": "completed"
        },
        "tags": []
      },
      "source": [
        "le_path = 'labelencoder.pkl'\n",
        "with open(le_path, 'wb') as fw:\n",
        "    pickle.dump(labelencoder, fw)"
      ],
      "id": "7d313bf9",
      "execution_count": null,
      "outputs": []
    },
    {
      "cell_type": "code",
      "metadata": {
        "execution": {
          "iopub.execute_input": "2021-10-04T05:30:13.818914Z",
          "iopub.status.busy": "2021-10-04T05:30:13.818094Z",
          "iopub.status.idle": "2021-10-04T05:30:13.854381Z",
          "shell.execute_reply": "2021-10-04T05:30:13.853730Z",
          "shell.execute_reply.started": "2021-10-04T05:02:25.260953Z"
        },
        "id": "85d93578",
        "papermill": {
          "duration": 1.720796,
          "end_time": "2021-10-04T05:30:13.854539",
          "exception": false,
          "start_time": "2021-10-04T05:30:12.133743",
          "status": "completed"
        },
        "tags": [],
        "outputId": "50922d93-94bc-4221-a299-725e562f66ad"
      },
      "source": [
        "label_ids = tf.convert_to_tensor(np.array(df['hotel_id']), dtype=tf.int32)\n",
        "image_files  = tf.convert_to_tensor(df['train_images'].tolist(), dtype=tf.string)"
      ],
      "id": "85d93578",
      "execution_count": null,
      "outputs": [
        {
          "name": "stderr",
          "output_type": "stream",
          "text": [
            "2021-10-04 05:30:12.221281: I tensorflow/compiler/jit/xla_cpu_device.cc:41] Not creating XLA devices, tf_xla_enable_xla_devices not set\n",
            "2021-10-04 05:30:12.224399: I tensorflow/stream_executor/platform/default/dso_loader.cc:49] Successfully opened dynamic library libcuda.so.1\n",
            "2021-10-04 05:30:12.261809: I tensorflow/stream_executor/cuda/cuda_gpu_executor.cc:941] successful NUMA node read from SysFS had negative value (-1), but there must be at least one NUMA node, so returning NUMA node zero\n",
            "2021-10-04 05:30:12.262482: I tensorflow/core/common_runtime/gpu/gpu_device.cc:1720] Found device 0 with properties: \n",
            "pciBusID: 0000:00:04.0 name: Tesla P100-PCIE-16GB computeCapability: 6.0\n",
            "coreClock: 1.3285GHz coreCount: 56 deviceMemorySize: 15.90GiB deviceMemoryBandwidth: 681.88GiB/s\n",
            "2021-10-04 05:30:12.262555: I tensorflow/stream_executor/platform/default/dso_loader.cc:49] Successfully opened dynamic library libcudart.so.11.0\n",
            "2021-10-04 05:30:12.287755: I tensorflow/stream_executor/platform/default/dso_loader.cc:49] Successfully opened dynamic library libcublas.so.11\n",
            "2021-10-04 05:30:12.287843: I tensorflow/stream_executor/platform/default/dso_loader.cc:49] Successfully opened dynamic library libcublasLt.so.11\n",
            "2021-10-04 05:30:12.304167: I tensorflow/stream_executor/platform/default/dso_loader.cc:49] Successfully opened dynamic library libcufft.so.10\n",
            "2021-10-04 05:30:12.312510: I tensorflow/stream_executor/platform/default/dso_loader.cc:49] Successfully opened dynamic library libcurand.so.10\n",
            "2021-10-04 05:30:12.337149: I tensorflow/stream_executor/platform/default/dso_loader.cc:49] Successfully opened dynamic library libcusolver.so.10\n",
            "2021-10-04 05:30:12.344655: I tensorflow/stream_executor/platform/default/dso_loader.cc:49] Successfully opened dynamic library libcusparse.so.11\n",
            "2021-10-04 05:30:12.347689: I tensorflow/stream_executor/platform/default/dso_loader.cc:49] Successfully opened dynamic library libcudnn.so.8\n",
            "2021-10-04 05:30:12.347868: I tensorflow/stream_executor/cuda/cuda_gpu_executor.cc:941] successful NUMA node read from SysFS had negative value (-1), but there must be at least one NUMA node, so returning NUMA node zero\n",
            "2021-10-04 05:30:12.348568: I tensorflow/stream_executor/cuda/cuda_gpu_executor.cc:941] successful NUMA node read from SysFS had negative value (-1), but there must be at least one NUMA node, so returning NUMA node zero\n",
            "2021-10-04 05:30:12.350228: I tensorflow/core/common_runtime/gpu/gpu_device.cc:1862] Adding visible gpu devices: 0\n",
            "2021-10-04 05:30:12.352498: I tensorflow/core/platform/cpu_feature_guard.cc:142] This TensorFlow binary is optimized with oneAPI Deep Neural Network Library (oneDNN) to use the following CPU instructions in performance-critical operations:  AVX2 AVX512F FMA\n",
            "To enable them in other operations, rebuild TensorFlow with the appropriate compiler flags.\n",
            "2021-10-04 05:30:12.353731: I tensorflow/compiler/jit/xla_gpu_device.cc:99] Not creating XLA devices, tf_xla_enable_xla_devices not set\n",
            "2021-10-04 05:30:12.353905: I tensorflow/stream_executor/cuda/cuda_gpu_executor.cc:941] successful NUMA node read from SysFS had negative value (-1), but there must be at least one NUMA node, so returning NUMA node zero\n",
            "2021-10-04 05:30:12.354506: I tensorflow/core/common_runtime/gpu/gpu_device.cc:1720] Found device 0 with properties: \n",
            "pciBusID: 0000:00:04.0 name: Tesla P100-PCIE-16GB computeCapability: 6.0\n",
            "coreClock: 1.3285GHz coreCount: 56 deviceMemorySize: 15.90GiB deviceMemoryBandwidth: 681.88GiB/s\n",
            "2021-10-04 05:30:12.354545: I tensorflow/stream_executor/platform/default/dso_loader.cc:49] Successfully opened dynamic library libcudart.so.11.0\n",
            "2021-10-04 05:30:12.354571: I tensorflow/stream_executor/platform/default/dso_loader.cc:49] Successfully opened dynamic library libcublas.so.11\n",
            "2021-10-04 05:30:12.354588: I tensorflow/stream_executor/platform/default/dso_loader.cc:49] Successfully opened dynamic library libcublasLt.so.11\n",
            "2021-10-04 05:30:12.354605: I tensorflow/stream_executor/platform/default/dso_loader.cc:49] Successfully opened dynamic library libcufft.so.10\n",
            "2021-10-04 05:30:12.354621: I tensorflow/stream_executor/platform/default/dso_loader.cc:49] Successfully opened dynamic library libcurand.so.10\n",
            "2021-10-04 05:30:12.354637: I tensorflow/stream_executor/platform/default/dso_loader.cc:49] Successfully opened dynamic library libcusolver.so.10\n",
            "2021-10-04 05:30:12.354655: I tensorflow/stream_executor/platform/default/dso_loader.cc:49] Successfully opened dynamic library libcusparse.so.11\n",
            "2021-10-04 05:30:12.354672: I tensorflow/stream_executor/platform/default/dso_loader.cc:49] Successfully opened dynamic library libcudnn.so.8\n",
            "2021-10-04 05:30:12.354757: I tensorflow/stream_executor/cuda/cuda_gpu_executor.cc:941] successful NUMA node read from SysFS had negative value (-1), but there must be at least one NUMA node, so returning NUMA node zero\n",
            "2021-10-04 05:30:12.355420: I tensorflow/stream_executor/cuda/cuda_gpu_executor.cc:941] successful NUMA node read from SysFS had negative value (-1), but there must be at least one NUMA node, so returning NUMA node zero\n",
            "2021-10-04 05:30:12.356009: I tensorflow/core/common_runtime/gpu/gpu_device.cc:1862] Adding visible gpu devices: 0\n",
            "2021-10-04 05:30:12.356993: I tensorflow/stream_executor/platform/default/dso_loader.cc:49] Successfully opened dynamic library libcudart.so.11.0\n",
            "2021-10-04 05:30:13.785592: I tensorflow/core/common_runtime/gpu/gpu_device.cc:1261] Device interconnect StreamExecutor with strength 1 edge matrix:\n",
            "2021-10-04 05:30:13.785643: I tensorflow/core/common_runtime/gpu/gpu_device.cc:1267]      0 \n",
            "2021-10-04 05:30:13.785654: I tensorflow/core/common_runtime/gpu/gpu_device.cc:1280] 0:   N \n",
            "2021-10-04 05:30:13.787857: I tensorflow/stream_executor/cuda/cuda_gpu_executor.cc:941] successful NUMA node read from SysFS had negative value (-1), but there must be at least one NUMA node, so returning NUMA node zero\n",
            "2021-10-04 05:30:13.788689: I tensorflow/stream_executor/cuda/cuda_gpu_executor.cc:941] successful NUMA node read from SysFS had negative value (-1), but there must be at least one NUMA node, so returning NUMA node zero\n",
            "2021-10-04 0"
          ]
        }
      ]
    },
    {
      "cell_type": "code",
      "metadata": {
        "execution": {
          "iopub.execute_input": "2021-10-04T05:30:14.028439Z",
          "iopub.status.busy": "2021-10-04T05:30:14.027884Z",
          "iopub.status.idle": "2021-10-04T05:30:14.033350Z",
          "shell.execute_reply": "2021-10-04T05:30:14.033779Z",
          "shell.execute_reply.started": "2021-10-04T05:02:26.878159Z"
        },
        "id": "2afab268",
        "papermill": {
          "duration": 0.0947,
          "end_time": "2021-10-04T05:30:14.033917",
          "exception": false,
          "start_time": "2021-10-04T05:30:13.939217",
          "status": "completed"
        },
        "tags": [],
        "outputId": "e204451f-2cd2-47db-d185-636b0d30e7dd"
      },
      "source": [
        "len(label_ids)"
      ],
      "id": "2afab268",
      "execution_count": null,
      "outputs": [
        {
          "data": {
            "text/plain": [
              "97556"
            ]
          },
          "execution_count": 18,
          "metadata": {},
          "output_type": "execute_result"
        }
      ]
    },
    {
      "cell_type": "code",
      "metadata": {
        "execution": {
          "iopub.execute_input": "2021-10-04T05:30:14.206430Z",
          "iopub.status.busy": "2021-10-04T05:30:14.205646Z",
          "iopub.status.idle": "2021-10-04T05:30:14.475732Z",
          "shell.execute_reply": "2021-10-04T05:30:14.475245Z",
          "shell.execute_reply.started": "2021-10-04T05:02:26.886394Z"
        },
        "id": "feef2eb7",
        "papermill": {
          "duration": 0.357084,
          "end_time": "2021-10-04T05:30:14.475862",
          "exception": false,
          "start_time": "2021-10-04T05:30:14.118778",
          "status": "completed"
        },
        "tags": []
      },
      "source": [
        "# Create a train dataset\n",
        "#https://udibhaskar.github.io/practical-ml/debugging%20nn/neural%20network/overfit/underfit/2020/02/03/Effective_Training_and_Debugging_of_a_Neural_Networks.html\n",
        "train_dataset = tf.data.Dataset.from_tensor_slices((image_files, label_ids))\n",
        "\n",
        "train_dataset = train_dataset.shuffle(len(image_files))\n",
        "\n",
        "#this map fucntion is also taken from \n",
        "#https://colab.research.google.com/github/tensorflow/docs/blob/master/site/en/tutorials/images/data_augmentation.ipynb\n",
        "train_dataset = train_dataset.map(train_images_reading,num_parallel_calls=tf.data.AUTOTUNE)\n",
        "\n",
        "train_dataset = train_dataset.map(train_images_preprocessing,num_parallel_calls=tf.data.AUTOTUNE)\n",
        "\n",
        "train_dataset = train_dataset.batch(64)\n",
        "train_dataset = train_dataset.prefetch(2)"
      ],
      "id": "feef2eb7",
      "execution_count": null,
      "outputs": []
    },
    {
      "cell_type": "code",
      "metadata": {
        "execution": {
          "iopub.execute_input": "2021-10-04T05:30:14.650090Z",
          "iopub.status.busy": "2021-10-04T05:30:14.649519Z",
          "iopub.status.idle": "2021-10-04T05:30:14.652066Z",
          "shell.execute_reply": "2021-10-04T05:30:14.652509Z",
          "shell.execute_reply.started": "2021-10-04T05:02:27.173492Z"
        },
        "id": "dfd93e85",
        "papermill": {
          "duration": 0.092356,
          "end_time": "2021-10-04T05:30:14.652638",
          "exception": false,
          "start_time": "2021-10-04T05:30:14.560282",
          "status": "completed"
        },
        "tags": [],
        "outputId": "9f4e5b0a-9ae0-422c-8dd4-7ce6f12abded"
      },
      "source": [
        "train_dataset"
      ],
      "id": "dfd93e85",
      "execution_count": null,
      "outputs": [
        {
          "data": {
            "text/plain": [
              "<PrefetchDataset shapes: (((None, 64, 64, 3), (None,)), (None,)), types: ((tf.float32, tf.int32), tf.int32)>"
            ]
          },
          "execution_count": 20,
          "metadata": {},
          "output_type": "execute_result"
        }
      ]
    },
    {
      "cell_type": "code",
      "metadata": {
        "execution": {
          "iopub.execute_input": "2021-10-04T05:30:14.826198Z",
          "iopub.status.busy": "2021-10-04T05:30:14.825578Z",
          "iopub.status.idle": "2021-10-04T05:30:16.667824Z",
          "shell.execute_reply": "2021-10-04T05:30:16.668878Z",
          "shell.execute_reply.started": "2021-10-04T05:02:27.325720Z"
        },
        "id": "e4f088ed",
        "papermill": {
          "duration": 1.932183,
          "end_time": "2021-10-04T05:30:16.669072",
          "exception": false,
          "start_time": "2021-10-04T05:30:14.736889",
          "status": "completed"
        },
        "tags": [],
        "outputId": "eab64711-92ff-464e-f338-76cd3f024cbc"
      },
      "source": [
        "for input_text, output_label in train_dataset:\n",
        "    print(input_text[0:3], output_label[0:3])\n",
        "    break"
      ],
      "id": "e4f088ed",
      "execution_count": null,
      "outputs": [
        {
          "name": "stderr",
          "output_type": "stream",
          "text": [
            "2021-10-04 05:30:14.868630: I tensorflow/compiler/mlir/mlir_graph_optimization_pass.cc:116] None of the MLIR optimization passes are enabled (registered 2)\n",
            "2021-10-04 05:30:14.873987: I tensorflow/core/platform/profile_utils/cpu_utils.cc:112] CPU Frequency: 2000189999 Hz\n"
          ]
        },
        {
          "name": "stdout",
          "output_type": "stream",
          "text": [
            "(<tf.Tensor: shape=(64, 64, 64, 3), dtype=float32, numpy=\n",
            "array([[[[1.        , 0.99219984, 0.90857726],\n",
            "         [1.        , 0.9774939 , 0.8938713 ],\n",
            "         [1.        , 0.9872979 , 0.9036753 ],\n",
            "         ...,\n",
            "         [0.5549516 , 0.54660225, 0.3661821 ],\n",
            "         [0.57259864, 0.5624066 , 0.38893104],\n",
            "         [0.54514766, 0.52156174, 0.3844385 ]],\n",
            "\n",
            "        [[1.        , 1.        , 0.92564374],\n",
            "         [1.        , 1.        , 0.9136791 ],\n",
            "         [1.        , 0.99467856, 0.9077968 ],\n",
            "         ...,\n",
            "         [0.59514767, 0.5733353 , 0.4012763 ],\n",
            "         [0.58632416, 0.5645118 , 0.39245278],\n",
            "         [0.5706379 , 0.5488255 , 0.3767665 ]],\n",
            "\n",
            "        [[1.        , 1.        , 0.95270455],\n",
            "         [1.        , 1.        , 0.9264242 ],\n",
            "         [1.        , 1.        , 0.9166203 ],\n",
            "         ...,\n",
            "         [0.60103005, 0.5792177 , 0.40715867],\n",
            "         [0.5912261 , 0.5694137 , 0.39735472],\n",
            "         [0.5804418 , 0.5586294 , 0.3865704 ]],\n",
            "\n",
            "        ...,\n",
            "\n",
            "        [[1.        , 1.        , 1.        ],\n",
            "         [1.        , 1.        , 1.        ],\n",
            "         [1.        , 1.        , 1.        ],\n",
            "         ...,\n",
            "         [0.1471648 , 0.15397123, 0.09274867],\n",
            "         [0.14520402, 0.15201044, 0.09078789],\n",
            "         [0.11691706, 0.13534376, 0.08432498]],\n",
            "\n",
            "        [[1.        , 1.        , 1.        ],\n",
            "         [1.        , 1.        , 1.        ],\n",
            "         [1.        , 1.        , 1.        ],\n",
            "         ...,\n",
            "         [0.15304716, 0.15985358, 0.09863102],\n",
            "         [0.15010598, 0.15691239, 0.09568985],\n",
            "         [0.11299549, 0.13142219, 0.08040341]],\n",
            "\n",
            "        [[1.        , 1.        , 1.        ],\n",
            "         [1.        , 1.        , 1.        ],\n",
            "         [1.        , 1.        , 1.        ],\n",
            "         ...,\n",
            "         [0.15304716, 0.15985358, 0.09863102],\n",
            "         [0.16677265, 0.17357907, 0.11235651],\n",
            "         [0.13358374, 0.15201044, 0.10099164]]],\n",
            "\n",
            "\n",
            "       [[[0.518263  , 0.5765202 , 0.4081582 ],\n",
            "         [0.5278312 , 0.5941673 , 0.4104997 ],\n",
            "         [0.56231856, 0.61377513, 0.4148019 ],\n",
            "         ...,\n",
            "         [0.15673251, 0.15985358, 0.10883478],\n",
            "         [0.18179657, 0.18534377, 0.11901934],\n",
            "         [0.1673269 , 0.17455944, 0.09803127]],\n",
            "\n",
            "        [[0.53062797, 0.5853438 , 0.3914724 ],\n",
            "         [0.54435337, 0.59906924, 0.40519786],\n",
            "         [0.5626728 , 0.61965746, 0.40537858],\n",
            "         ...,\n",
            "         [0.15085016, 0.15397123, 0.10295242],\n",
            "         [0.15010598, 0.15691239, 0.09568985],\n",
            "         [0.16928768, 0.17652023, 0.09999205]],\n",
            "\n",
            "        [[0.5345495 , 0.58926535, 0.39539397],\n",
            "         [0.54533374, 0.6000496 , 0.40617824],\n",
            "         [0.55973166, 0.6167163 , 0.40243745],\n",
            "         ...,\n",
            "         [0.1439874 , 0.14710847, 0.09608968],\n",
            "         [0.16187069, 0.16867709, 0.10745455],\n",
            "         [0.17517003, 0.18240258, 0.10587441]],\n",
            "\n",
            "        ...,\n",
            "\n",
            "        [[0.6686771 , 0.6434791 , 0.22991559],\n",
            "         [0.683383  , 0.66187036, 0.2344177 ],\n",
            "         [0.7069124 , 0.68398327, 0.24774337],\n",
            "         ...,\n",
            "         [0.08927713, 0.09710847, 0.07542549],\n",
            "         [0.15201044, 0.140252  , 0.08568601],\n",
            "         [0.17357907, 0.1571449 , 0.091949  ]],\n",
            "\n",
            "        [[0.6667163 , 0.64151835, 0.22795478],\n",
            "         [0.678481  , 0.65696836, 0.22951567],\n",
            "         [0.70887315, 0.685944  , 0.24970415],\n",
            "         ...,\n",
            "         [0.10058116, 0.10887317, 0.08591472],\n",
            "         [0.14612809, 0.13436964, 0.07980365],\n",
            "         [0.16769671, 0.15126252, 0.08606664]],\n",
            "\n",
            "        [[0.67553985, 0.65261066, 0.21637082],\n",
            "         [0.68730456, 0.6643754 , 0.22813553],\n",
            "         [0.70985353, 0.6840912 , 0.23027694],\n",
            "         ...,\n",
            "         [0.1176967 , 0.11018787, 0.08198355],\n",
            "         [0.16181436, 0.15005592, 0.09548993],\n",
            "         [0.16769671, 0.15962362, 0.09116852]]],\n",
            "\n",
            "\n",
            "       [[[0.728481  , 0.70200455, 0.33563635],\n",
            "         [0.7137751 , 0.68177074, 0.33623612],\n",
            "         [0.73240256, 0.7003982 , 0.35486358],\n",
            "         ...,\n",
            "         [0.5412261 , 0.51729476, 0.24021527],\n",
            "         [0.52063787, 0.47211853, 0.21707612],\n",
            "         [0.5275006 , 0.46927273, 0.23669356]],\n",
            "\n",
            "        [[0.8471085 , 0.8183633 , 0.4746713 ],\n",
            "         [0.8716183 , 0.8308267 , 0.5042831 ],\n",
            "         [0.88730454, 0.846513  , 0.51996934],\n",
            "         ...,\n",
            "         [0.7725986 , 0.7401681 , 0.41036525],\n",
            "         [0.66965747, 0.6251805 , 0.312526  ],\n",
            "         [0.53338295, 0.48167643, 0.20686275]],\n",
            "\n",
            "        [[0.7882849 , 0.7595397 , 0.4158478 ],\n",
            "         [0.855932  , 0.8151404 , 0.48859677],\n",
            "         [0.8882849 , 0.84749335, 0.5209497 ],\n",
            "         ...,\n",
            "         [0.7402457 , 0.7078152 , 0.37801233],\n",
            "         [0.7412261 , 0.6967491 , 0.38409463],\n",
            "         [0.74514765, 0.7251897 , 0.3625068 ]],\n",
            "\n",
            "        ...,\n",
            "\n",
            "        [[1.        , 0.9786651 , 0.582676  ],\n",
            "         [1.        , 1.        , 0.63131493],\n",
            "         [1.        , 1.        , 0.64209926],\n",
            "         ...,\n",
            "         [0.2324026 , 0.21639454, 0.1354669 ],\n",
            "         [0.29808885, 0.27131277, 0.16033813],\n",
            "         [0.42161828, 0.3882922 , 0.21371673]],\n",
            "\n",
            "        [[1.        , 0.99141026, 0.59542114],\n",
            "         [1.        , 1.        , 0.639158  ],\n",
            "         [1.        , 1.        , 0.6293541 ],\n",
            "         ...,\n",
            "         [0.21475554, 0.19874749, 0.11781985],\n",
            "         [0.305932  , 0.2791559 , 0.16818127],\n",
            "         [0.33044183, 0.30349016, 0.16845717]],\n",
            "\n",
            "        [[1.        , 1.        , 0.61993086],\n",
            "         [1.        , 1.        , 0.65680516],\n",
            "         [1.        , 1.        , 0.6558247 ],\n",
            "         ...,\n",
            "         [0.22652024, 0.20172498, 0.13978831],\n",
            "         [0.28044182, 0.26528603, 0.15289482],\n",
            "         [0.33044183, 0.30451798, 0.16207983]]],\n",
            "\n",
            "\n",
            "       ...,\n",
            "\n",
            "\n",
            "       [[[0.42081648, 0.5471085 , 0.22569016],\n",
            "         [0.43438756, 0.55004966, 0.24393696],\n",
            "         [0.4314464 , 0.5471085 , 0.2409958 ],\n",
            "         ...,\n",
            "         [0.08142219, 0.08142219, 0.08142219],\n",
            "         [0.09024572, 0.09024572, 0.09024572],\n",
            "         [0.09009369, 0.105932  , 0.08679995]],\n",
            "\n",
            "        [[0.434542  , 0.56083393, 0.23941562],\n",
            "         [0.44168645, 0.555932  , 0.23961553],\n",
            "         [0.4485492 , 0.56279474, 0.24647829],\n",
            "         ...,\n",
            "         [0.08142219, 0.08142219, 0.08142219],\n",
            "         [0.08240259, 0.08240259, 0.08240259],\n",
            "         [0.07563521, 0.08534376, 0.07258907]],\n",
            "\n",
            "        [[0.4465884 , 0.56083393, 0.2445175 ],\n",
            "         [0.45737273, 0.57161826, 0.25530183],\n",
            "         [0.4485492 , 0.56279474, 0.24647829],\n",
            "         ...,\n",
            "         [0.08240259, 0.08240259, 0.08240259],\n",
            "         [0.08534376, 0.08534376, 0.08534376],\n",
            "         [0.08022269, 0.11083396, 0.08617683]],\n",
            "\n",
            "        ...,\n",
            "\n",
            "        [[0.77139914, 0.8011582 , 0.8020104 ],\n",
            "         [0.73512465, 0.7648837 , 0.7657359 ],\n",
            "         [0.68120307, 0.7109621 , 0.71181434],\n",
            "         ...,\n",
            "         [0.10574209, 0.10985357, 0.08434418],\n",
            "         [0.09587912, 0.09906925, 0.0761108 ],\n",
            "         [0.09247728, 0.09612808, 0.07189415]],\n",
            "\n",
            "        [[0.73354447, 0.778183  , 0.7794614 ],\n",
            "         [0.7243403 , 0.75409937, 0.7549516 ],\n",
            "         [0.6289898 , 0.6451477 , 0.6145364 ],\n",
            "         ...,\n",
            "         [0.18730456, 0.16516967, 0.05082929],\n",
            "         [0.2324026 , 0.21257105, 0.08954999],\n",
            "         [0.24710847, 0.23209669, 0.08384834]],\n",
            "\n",
            "        [[0.72904235, 0.7647555 , 0.74194103],\n",
            "         [0.7294422 , 0.7549516 , 0.7437574 ],\n",
            "         [0.61275923, 0.6275006 , 0.58668554],\n",
            "         ...,\n",
            "         [0.11573592, 0.10475482, 0.08257371],\n",
            "         [0.11083396, 0.09985286, 0.07767175],\n",
            "         [0.0931869 , 0.09127516, 0.07022845]]],\n",
            "\n",
            "\n",
            "       [[[0.4050103 , 0.46978003, 0.40345562],\n",
            "         [0.40893188, 0.4737016 , 0.40737718],\n",
            "         [0.3976851 , 0.45409375, 0.38266745],\n",
            "         ...,\n",
            "         [0.34037822, 0.4254173 , 0.30297223],\n",
            "         [0.36072135, 0.44576043, 0.32331535],\n",
            "         [0.34037822, 0.4254173 , 0.30297223]],\n",
            "\n",
            "        [[0.4162459 , 0.4876722 , 0.43183953],\n",
            "         [0.4031721 , 0.46794182, 0.4016174 ],\n",
            "         [0.41469172, 0.47946143, 0.41313702],\n",
            "         ...,\n",
            "         [0.34112683, 0.4206379 , 0.31349847],\n",
            "         [0.3496822 , 0.41487807, 0.33324802],\n",
            "         [0.3501009 , 0.40041727, 0.30348158]],\n",
            "\n",
            "        [[0.4354861 , 0.5069124 , 0.45107973],\n",
            "         [0.44332924, 0.51475555, 0.453821  ],\n",
            "         [0.4465477 , 0.50777024, 0.46865973],\n",
            "         ...,\n",
            "         [0.32308227, 0.3321575 , 0.25052744],\n",
            "         [0.33105245, 0.33828497, 0.26175675],\n",
            "         [0.30502093, 0.327133  , 0.26591042]],\n",
            "\n",
            "        ...,\n",
            "\n",
            "        [[0.66882795, 0.70482904, 0.63340276],\n",
            "         [0.6630682 , 0.69906926, 0.627643  ],\n",
            "         [0.65130347, 0.68730456, 0.6158783 ],\n",
            "         ...,\n",
            "         [0.20805691, 0.23853004, 0.18240938],\n",
            "         [0.2397741 , 0.255932  , 0.22532073],\n",
            "         [0.18009716, 0.19441238, 0.168903  ]],\n",
            "\n",
            "        [[0.6109567 , 0.6761526 , 0.59452254],\n",
            "         [0.61345875, 0.66377515, 0.56683946],\n",
            "         [0.6038999 , 0.6542163 , 0.5572806 ],\n",
            "         ...,\n",
            "         [0.43509248, 0.4759075 , 0.44473195],\n",
            "         [0.20504694, 0.25777024, 0.19654769],\n",
            "         [0.2941159 , 0.32982904, 0.29681084]],\n",
            "\n",
            "        [[0.55997634, 0.6251722 , 0.54354215],\n",
            "         [0.57448816, 0.62480456, 0.52786887],\n",
            "         [0.57745683, 0.64024574, 0.52290255],\n",
            "         ...,\n",
            "         [0.38155153, 0.4376722 , 0.4273303 ],\n",
            "         [0.41077015, 0.47553986, 0.40921545],\n",
            "         [0.2796025 , 0.29576045, 0.26514915]]],\n",
            "\n",
            "\n",
            "       [[[0.94720876, 1.        , 0.66308737],\n",
            "         [1.        , 1.        , 1.        ],\n",
            "         [1.        , 1.        , 1.        ],\n",
            "         ...,\n",
            "         [0.6980888 , 0.66353935, 0.22871605],\n",
            "         [0.67063785, 0.6360884 , 0.20126507],\n",
            "         [0.6667163 , 0.62890756, 0.19224158]],\n",
            "\n",
            "        [[0.9392935 , 1.        , 0.6305152 ],\n",
            "         [1.        , 1.        , 0.9511339 ],\n",
            "         [1.        , 1.        , 1.        ],\n",
            "         ...,\n",
            "         [0.6794614 , 0.64306927, 0.21519047],\n",
            "         [0.69906926, 0.66267717, 0.23479834],\n",
            "         [0.6980888 , 0.6616967 , 0.23381793]],\n",
            "\n",
            "        [[0.9213598 , 1.        , 0.57470894],\n",
            "         [0.9892423 , 1.        , 0.8541982 ],\n",
            "         [1.        , 1.        , 0.99901175],\n",
            "         ...,\n",
            "         [0.63534373, 0.6017847 , 0.19148034],\n",
            "         [0.64612806, 0.612569  , 0.20226467],\n",
            "         [0.61965746, 0.57957995, 0.16559032]],\n",
            "\n",
            "        ...,\n",
            "\n",
            "        [[0.82946146, 0.8233809 , 0.62028444],\n",
            "         [0.83436334, 0.8282828 , 0.6251863 ],\n",
            "         [0.8412261 , 0.83514553, 0.6320491 ],\n",
            "         ...,\n",
            "         [0.30612063, 0.4482475 , 0.5765202 ],\n",
            "         [0.27198768, 0.43735498, 0.56279474],\n",
            "         [0.282772  , 0.43283367, 0.5735791 ]],\n",
            "\n",
            "        [[0.8588732 , 0.85279256, 0.6496961 ],\n",
            "         [0.84514767, 0.8390671 , 0.63597065],\n",
            "         [0.8500496 , 0.84396905, 0.6408726 ],\n",
            "         ...,\n",
            "         [0.28651282, 0.42863965, 0.55691236],\n",
            "         [0.25317952, 0.39530635, 0.52357906],\n",
            "         [0.2508189 , 0.40966785, 0.5314222 ]],\n",
            "\n",
            "        [[0.8616586 , 0.8618143 , 0.6424336 ],\n",
            "         [0.85103005, 0.8467921 , 0.6367511 ],\n",
            "         [0.85985357, 0.8556157 , 0.6455747 ],\n",
            "         ...,\n",
            "         [0.27670893, 0.41883576, 0.5471085 ],\n",
            "         [0.23847362, 0.38060045, 0.50887316],\n",
            "         [0.23533252, 0.38582036, 0.510834  ]]]], dtype=float32)>, <tf.Tensor: shape=(64,), dtype=int32, numpy=\n",
            "array([6943,  847, 2968,  730, 2609, 2152, 3175, 2191, 7660, 2339,  420,\n",
            "       6714, 6521, 2897, 2391,  591, 5188, 7326, 4398, 2969,  857,  585,\n",
            "       7366, 4265, 4829, 4455, 2737, 4811, 4850, 5698, 4363, 6664, 4283,\n",
            "       2696, 1216, 4345, 4418, 2280, 5754, 2415, 7365, 1089, 4735, 6229,\n",
            "       2860, 6850, 1050,  920,  975, 7733, 4696,  576, 1285, 3929, 4133,\n",
            "       4961, 5654,  420,  902, 5691, 4779,  851, 7520, 6846], dtype=int32)>) tf.Tensor([6943  847 2968], shape=(3,), dtype=int32)\n"
          ]
        }
      ]
    },
    {
      "cell_type": "code",
      "metadata": {
        "execution": {
          "iopub.execute_input": "2021-10-04T05:30:16.874936Z",
          "iopub.status.busy": "2021-10-04T05:30:16.848026Z",
          "iopub.status.idle": "2021-10-04T05:30:16.879218Z",
          "shell.execute_reply": "2021-10-04T05:30:16.879668Z",
          "shell.execute_reply.started": "2021-10-04T05:02:29.491885Z"
        },
        "id": "ba4222de",
        "papermill": {
          "duration": 0.124727,
          "end_time": "2021-10-04T05:30:16.879816",
          "exception": false,
          "start_time": "2021-10-04T05:30:16.755089",
          "status": "completed"
        },
        "tags": [],
        "outputId": "0be1804c-1f25-4503-cfe5-4b02367b9ab0"
      },
      "source": [
        "len(train_dataset)"
      ],
      "id": "ba4222de",
      "execution_count": null,
      "outputs": [
        {
          "data": {
            "text/plain": [
              "1525"
            ]
          },
          "execution_count": 22,
          "metadata": {},
          "output_type": "execute_result"
        }
      ]
    },
    {
      "cell_type": "code",
      "metadata": {
        "execution": {
          "iopub.execute_input": "2021-10-04T05:30:17.094839Z",
          "iopub.status.busy": "2021-10-04T05:30:17.094039Z",
          "iopub.status.idle": "2021-10-04T05:30:17.096043Z",
          "shell.execute_reply": "2021-10-04T05:30:17.096436Z",
          "shell.execute_reply.started": "2021-10-04T05:02:29.499485Z"
        },
        "id": "31bc43cd",
        "papermill": {
          "duration": 0.09385,
          "end_time": "2021-10-04T05:30:17.096570",
          "exception": false,
          "start_time": "2021-10-04T05:30:17.002720",
          "status": "completed"
        },
        "tags": []
      },
      "source": [
        "import tensorflow as tf\n",
        "from tensorflow.keras import Model\n",
        "from tensorflow.keras.layers import Dense,Dropout,Flatten,Input\n",
        "from tensorflow.keras.applications import ResNet50"
      ],
      "id": "31bc43cd",
      "execution_count": null,
      "outputs": []
    },
    {
      "cell_type": "code",
      "metadata": {
        "execution": {
          "iopub.execute_input": "2021-10-04T05:30:17.302141Z",
          "iopub.status.busy": "2021-10-04T05:30:17.301624Z",
          "iopub.status.idle": "2021-10-04T05:30:17.303877Z",
          "shell.execute_reply": "2021-10-04T05:30:17.304280Z",
          "shell.execute_reply.started": "2021-10-04T05:02:31.654532Z"
        },
        "id": "ea3d110d",
        "papermill": {
          "duration": 0.122575,
          "end_time": "2021-10-04T05:30:17.304412",
          "exception": false,
          "start_time": "2021-10-04T05:30:17.181837",
          "status": "completed"
        },
        "tags": []
      },
      "source": [
        "num_classes=len(set(df['hotel_id'].values))"
      ],
      "id": "ea3d110d",
      "execution_count": null,
      "outputs": []
    },
    {
      "cell_type": "code",
      "metadata": {
        "execution": {
          "iopub.execute_input": "2021-10-04T05:30:17.480465Z",
          "iopub.status.busy": "2021-10-04T05:30:17.479700Z",
          "iopub.status.idle": "2021-10-04T05:30:17.482060Z",
          "shell.execute_reply": "2021-10-04T05:30:17.481672Z",
          "shell.execute_reply.started": "2021-10-04T05:02:32.159862Z"
        },
        "id": "fed54194",
        "papermill": {
          "duration": 0.09276,
          "end_time": "2021-10-04T05:30:17.482164",
          "exception": false,
          "start_time": "2021-10-04T05:30:17.389404",
          "status": "completed"
        },
        "tags": []
      },
      "source": [
        "#import keras\n",
        "from tensorflow.keras.layers import SpatialDropout1D, LSTM, BatchNormalization,concatenate,Flatten,Embedding,Dense,Dropout,MaxPooling2D,Reshape"
      ],
      "id": "fed54194",
      "execution_count": null,
      "outputs": []
    },
    {
      "cell_type": "code",
      "metadata": {
        "execution": {
          "iopub.execute_input": "2021-10-04T05:30:17.658635Z",
          "iopub.status.busy": "2021-10-04T05:30:17.657526Z",
          "iopub.status.idle": "2021-10-04T05:30:20.202033Z",
          "shell.execute_reply": "2021-10-04T05:30:20.202463Z",
          "shell.execute_reply.started": "2021-10-04T05:03:22.286920Z"
        },
        "id": "b733340a",
        "papermill": {
          "duration": 2.635753,
          "end_time": "2021-10-04T05:30:20.202630",
          "exception": false,
          "start_time": "2021-10-04T05:30:17.566877",
          "status": "completed"
        },
        "tags": [],
        "outputId": "42a25186-2128-4fc5-a7f0-69fd6a9d4ea4"
      },
      "source": [
        "\n",
        "x = inputs = Input(shape=(64,64,3,), name='input_image')\n",
        "\n",
        "\n",
        "x = ResNet50(include_top=False,weights='imagenet')(x)\n",
        "\n",
        "x = tf.keras.layers.BatchNormalization()(x)\n",
        "\n",
        "\n",
        "x = Dropout(rate=0.5)(x)\n",
        "\n",
        "\n",
        "x = Flatten()(x)\n",
        "\n",
        "\n",
        "x = Dense(64, kernel_regularizer=tf.keras.regularizers.l2(5e-4))(x)\n",
        "\n",
        "\n",
        "output = Dense(num_classes, activation=\"softmax\")(x)\n",
        "\n",
        "labels = Input([], name='label')\n",
        "\n",
        "model = Model(inputs=[inputs,labels] ,outputs=output)\n",
        "\n"
      ],
      "id": "b733340a",
      "execution_count": null,
      "outputs": [
        {
          "name": "stdout",
          "output_type": "stream",
          "text": [
            "Downloading data from https://storage.googleapis.com/tensorflow/keras-applications/resnet/resnet50_weights_tf_dim_ordering_tf_kernels_notop.h5\n",
            "94773248/94765736 [==============================] - 1s 0us/step\n"
          ]
        }
      ]
    },
    {
      "cell_type": "code",
      "metadata": {
        "execution": {
          "iopub.execute_input": "2021-10-04T05:30:20.395878Z",
          "iopub.status.busy": "2021-10-04T05:30:20.389219Z",
          "iopub.status.idle": "2021-10-04T05:30:20.406600Z",
          "shell.execute_reply": "2021-10-04T05:30:20.407222Z",
          "shell.execute_reply.started": "2021-10-04T05:03:25.177071Z"
        },
        "id": "d836e3d0",
        "papermill": {
          "duration": 0.113929,
          "end_time": "2021-10-04T05:30:20.407413",
          "exception": false,
          "start_time": "2021-10-04T05:30:20.293484",
          "status": "completed"
        },
        "tags": [],
        "outputId": "2aba5dc0-6f84-4963-94af-35fd4ccae99b"
      },
      "source": [
        "model.summary()"
      ],
      "id": "d836e3d0",
      "execution_count": null,
      "outputs": [
        {
          "name": "stdout",
          "output_type": "stream",
          "text": [
            "Model: \"model\"\n",
            "__________________________________________________________________________________________________\n",
            "Layer (type)                    Output Shape         Param #     Connected to                     \n",
            "==================================================================================================\n",
            "input_image (InputLayer)        [(None, 64, 64, 3)]  0                                            \n",
            "__________________________________________________________________________________________________\n",
            "resnet50 (Functional)           (None, None, None, 2 23587712    input_image[0][0]                \n",
            "__________________________________________________________________________________________________\n",
            "batch_normalization (BatchNorma (None, 2, 2, 2048)   8192        resnet50[0][0]                   \n",
            "__________________________________________________________________________________________________\n",
            "dropout (Dropout)               (None, 2, 2, 2048)   0           batch_normalization[0][0]        \n",
            "__________________________________________________________________________________________________\n",
            "flatten (Flatten)               (None, 8192)         0           dropout[0][0]                    \n",
            "__________________________________________________________________________________________________\n",
            "dense (Dense)                   (None, 64)           524352      flatten[0][0]                    \n",
            "__________________________________________________________________________________________________\n",
            "label (InputLayer)              [(None,)]            0                                            \n",
            "__________________________________________________________________________________________________\n",
            "dense_1 (Dense)                 (None, 7770)         505050      dense[0][0]                      \n",
            "==================================================================================================\n",
            "Total params: 24,625,306\n",
            "Trainable params: 24,568,090\n",
            "Non-trainable params: 57,216\n",
            "__________________________________________________________________________________________________\n"
          ]
        }
      ]
    },
    {
      "cell_type": "code",
      "metadata": {
        "execution": {
          "iopub.execute_input": "2021-10-04T05:30:20.590048Z",
          "iopub.status.busy": "2021-10-04T05:30:20.589265Z",
          "iopub.status.idle": "2021-10-04T05:30:20.593791Z",
          "shell.execute_reply": "2021-10-04T05:30:20.593350Z",
          "shell.execute_reply.started": "2021-10-03T04:59:40.375709Z"
        },
        "id": "60753932",
        "papermill": {
          "duration": 0.096767,
          "end_time": "2021-10-04T05:30:20.593896",
          "exception": false,
          "start_time": "2021-10-04T05:30:20.497129",
          "status": "completed"
        },
        "tags": []
      },
      "source": [
        "tf.keras.backend.clear_session()"
      ],
      "id": "60753932",
      "execution_count": null,
      "outputs": []
    },
    {
      "cell_type": "code",
      "metadata": {
        "execution": {
          "iopub.execute_input": "2021-10-04T05:30:20.780201Z",
          "iopub.status.busy": "2021-10-04T05:30:20.778530Z",
          "iopub.status.idle": "2021-10-04T05:30:20.780866Z",
          "shell.execute_reply": "2021-10-04T05:30:20.781295Z",
          "shell.execute_reply.started": "2021-10-03T04:59:40.770666Z"
        },
        "id": "6a30260d",
        "papermill": {
          "duration": 0.096382,
          "end_time": "2021-10-04T05:30:20.781432",
          "exception": false,
          "start_time": "2021-10-04T05:30:20.685050",
          "status": "completed"
        },
        "tags": []
      },
      "source": [
        "learning_rate = tf.constant(0.001)\n",
        "optimizer = tf.keras.optimizers.SGD(learning_rate=learning_rate, momentum=0.9, nesterov=True, clipvalue=0.5)"
      ],
      "id": "6a30260d",
      "execution_count": null,
      "outputs": []
    },
    {
      "cell_type": "code",
      "metadata": {
        "execution": {
          "iopub.execute_input": "2021-10-04T05:30:20.974746Z",
          "iopub.status.busy": "2021-10-04T05:30:20.973892Z",
          "iopub.status.idle": "2021-10-04T05:30:20.980829Z",
          "shell.execute_reply": "2021-10-04T05:30:20.981287Z",
          "shell.execute_reply.started": "2021-10-03T04:59:41.201107Z"
        },
        "id": "7ac8af01",
        "papermill": {
          "duration": 0.109754,
          "end_time": "2021-10-04T05:30:20.981425",
          "exception": false,
          "start_time": "2021-10-04T05:30:20.871671",
          "status": "completed"
        },
        "tags": []
      },
      "source": [
        "model.compile(optimizer=optimizer, loss=tf.keras.losses.SparseCategoricalCrossentropy())"
      ],
      "id": "7ac8af01",
      "execution_count": null,
      "outputs": []
    },
    {
      "cell_type": "code",
      "metadata": {
        "execution": {
          "iopub.execute_input": "2021-10-04T05:30:21.456701Z",
          "iopub.status.busy": "2021-10-04T05:30:21.455983Z",
          "iopub.status.idle": "2021-10-04T05:30:21.459347Z",
          "shell.execute_reply": "2021-10-04T05:30:21.459946Z",
          "shell.execute_reply.started": "2021-10-03T04:59:41.660607Z"
        },
        "id": "7f58b719",
        "papermill": {
          "duration": 0.388203,
          "end_time": "2021-10-04T05:30:21.460138",
          "exception": false,
          "start_time": "2021-10-04T05:30:21.071935",
          "status": "completed"
        },
        "tags": [],
        "outputId": "044bd32f-12ce-414b-828a-4de25a0d7809"
      },
      "source": [
        "import datetime\n",
        "from time import time\n",
        "from tensorflow.python.keras.callbacks import TensorBoard\n",
        "#create a directory to save logs during model training\n",
        "log_dir=\"./model_logs_\" + datetime.datetime.now().strftime(\"%Y%m%d-%H%M%S\")\n",
        "\n",
        "\n",
        "#create a tensorboard callback with the log directory path\n",
        "tensorboard_callback = tf.keras.callbacks.TensorBoard(log_dir=log_dir,histogram_freq=1,\n",
        "                                                      write_graph=True,write_grads=True)\n",
        "filepath=\"./weights_model_1.best.h5\" \n",
        "check = tf.keras.callbacks.ModelCheckpoint(filepath=filepath, save_best_only = True, verbose = True,monitor='val_loss', mode=\"min\")\n",
        "\n",
        "callback_list = [tensorboard_callback, check]"
      ],
      "id": "7f58b719",
      "execution_count": null,
      "outputs": [
        {
          "name": "stderr",
          "output_type": "stream",
          "text": [
            "2021-10-04 05:30:21.169946: I tensorflow/core/profiler/lib/profiler_session.cc:136] Profiler session initializing.\n",
            "2021-10-04 05:30:21.169994: I tensorflow/core/profiler/lib/profiler_session.cc:155] Profiler session started.\n",
            "2021-10-04 05:30:21.170033: I tensorflow/core/profiler/internal/gpu/cupti_tracer.cc:1365] Profiler found 1 GPUs\n",
            "2021-10-04 05:30:21.190617: I tensorflow/stream_executor/platform/default/dso_loader.cc:49] Successfully opened dynamic library libcupti.so.11.0\n",
            "2021-10-04 05:30:21.332681: I tensorflow/core/profiler/lib/profiler_session.cc:172] Profiler session tear down.\n",
            "2021-10-04 05:30:21.333085: I tensorflow/core/profiler/internal/gpu/cupti_tracer.cc:1487] CUPTI activity buffer flushed\n"
          ]
        }
      ]
    },
    {
      "cell_type": "code",
      "metadata": {
        "execution": {
          "iopub.execute_input": "2021-10-04T05:30:21.645905Z",
          "iopub.status.busy": "2021-10-04T05:30:21.645299Z",
          "iopub.status.idle": "2021-10-04T10:02:27.706884Z",
          "shell.execute_reply": "2021-10-04T10:02:27.707383Z",
          "shell.execute_reply.started": "2021-10-03T06:21:45.409832Z"
        },
        "id": "82e47047",
        "papermill": {
          "duration": 16326.156569,
          "end_time": "2021-10-04T10:02:27.707562",
          "exception": false,
          "start_time": "2021-10-04T05:30:21.550993",
          "status": "completed"
        },
        "tags": [],
        "outputId": "3df4e110-d7e0-4519-8af5-32083a8332f1"
      },
      "source": [
        "history = model.fit(train_dataset,epochs=10,verbose=1,callbacks=[callback_list])"
      ],
      "id": "82e47047",
      "execution_count": null,
      "outputs": [
        {
          "name": "stdout",
          "output_type": "stream",
          "text": [
            "Epoch 1/10\n"
          ]
        },
        {
          "name": "stderr",
          "output_type": "stream",
          "text": [
            "2021-10-04 05:30:26.895181: I tensorflow/stream_executor/platform/default/dso_loader.cc:49] Successfully opened dynamic library libcublas.so.11\n",
            "2021-10-04 05:30:27.714130: I tensorflow/stream_executor/platform/default/dso_loader.cc:49] Successfully opened dynamic library libcublasLt.so.11\n",
            "2021-10-04 05:30:28.605731: I tensorflow/stream_executor/platform/default/dso_loader.cc:49] Successfully opened dynamic library libcudnn.so.8\n"
          ]
        },
        {
          "name": "stdout",
          "output_type": "stream",
          "text": [
            "   1/1525 [..............................] - ETA: 5:26:21 - loss: 9.0286"
          ]
        },
        {
          "name": "stderr",
          "output_type": "stream",
          "text": [
            "2021-10-04 05:30:34.911263: I tensorflow/core/profiler/lib/profiler_session.cc:136] Profiler session initializing.\n",
            "2021-10-04 05:30:34.911332: I tensorflow/core/profiler/lib/profiler_session.cc:155] Profiler session started.\n"
          ]
        },
        {
          "name": "stdout",
          "output_type": "stream",
          "text": [
            "   4/1525 [..............................] - ETA: 13:45 - loss: 9.0558"
          ]
        },
        {
          "name": "stderr",
          "output_type": "stream",
          "text": [
            "2021-10-04 05:30:35.620815: I tensorflow/core/profiler/lib/profiler_session.cc:71] Profiler session collecting data.\n",
            "2021-10-04 05:30:35.622803: I tensorflow/core/profiler/internal/gpu/cupti_tracer.cc:1487] CUPTI activity buffer flushed\n",
            "2021-10-04 05:30:35.775375: I tensorflow/core/profiler/internal/gpu/cupti_collector.cc:228]  GpuTracer has collected 2052 callback api events and 2044 activity events. \n",
            "2021-10-04 05:30:35.881403: I tensorflow/core/profiler/lib/profiler_session.cc:172] Profiler session tear down.\n",
            "2021-10-04 05:30:35.968574: I tensorflow/core/profiler/rpc/client/save_profile.cc:137] Creating directory: ./model_logs_20211004-053021/train/plugins/profile/2021_10_04_05_30_35\n",
            "2021-10-04 05:30:36.025690: I tensorflow/core/profiler/rpc/client/save_profile.cc:143] Dumped gzipped tool data for trace.json.gz to ./model_logs_20211004-053021/train/plugins/profile/2021_10_04_05_30_35/d3a962c3f3d5.trace.json.gz\n",
            "2021-10-04 05:30:36.131331: I tensorflow/core/profiler/rpc/client/save_profile.cc:137] Creating directory: ./model_logs_20211004-053021/train/plugins/profile/2021_10_04_05_30_35\n",
            "2021-10-04 05:30:36.139845: I tensorflow/core/profiler/rpc/client/save_profile.cc:143] Dumped gzipped tool data for memory_profile.json.gz to ./model_logs_20211004-053021/train/plugins/profile/2021_10_04_05_30_35/d3a962c3f3d5.memory_profile.json.gz\n",
            "2021-10-04 05:30:36.143889: I tensorflow/core/profiler/rpc/client/capture_profile.cc:251] Creating directory: ./model_logs_20211004-053021/train/plugins/profile/2021_10_04_05_30_35Dumped tool data for xplane.pb to ./model_logs_20211004-053021/train/plugins/profile/2021_10_04_05_30_35/d3a962c3f3d5.xplane.pb\n",
            "Dumped tool data for overview_page.pb to ./model_logs_20211004-053021/train/plugins/profile/2021_10_04_05_30_35/d3a962c3f3d5.overview_page.pb\n",
            "Dumped tool data for input_pipeline.pb to ./model_logs_20211004-053021/train/plugins/profile/2021_10_04_05_30_35/d3a962c3f3d5.input_pipeline.pb\n",
            "Dumped tool data for tensorflow_stats.pb to ./model_logs_20211004-053021/train/plugins/profile/2021_10_04_05_30_35/d3a962c3f3d5.tensorflow_stats.pb\n",
            "Dumped tool data for kernel_stats.pb to ./model_logs_20211004-053021/train/plugins/profile/2021_10_04_05_30_35/d3a962c3f3d5.kernel_stats.pb\n",
            "\n"
          ]
        },
        {
          "name": "stdout",
          "output_type": "stream",
          "text": [
            "1525/1525 [==============================] - 1774s 1s/step - loss: 9.0491\n",
            "Epoch 2/10\n",
            "1525/1525 [==============================] - 1546s 1s/step - loss: 8.8959\n",
            "Epoch 3/10\n",
            "1525/1525 [==============================] - 1571s 1s/step - loss: 8.5972\n",
            "Epoch 4/10\n",
            "1525/1525 [==============================] - 1647s 1s/step - loss: 8.2697\n",
            "Epoch 5/10\n",
            "1525/1525 [==============================] - 1633s 1s/step - loss: 7.8476\n",
            "Epoch 6/10\n",
            "1525/1525 [==============================] - 1606s 1s/step - loss: 7.3148\n",
            "Epoch 7/10\n",
            "1525/1525 [==============================] - 1602s 1s/step - loss: 6.7299\n",
            "Epoch 8/10\n",
            "1525/1525 [==============================] - 1618s 1s/step - loss: 6.0839\n",
            "Epoch 9/10\n",
            "1525/1525 [==============================] - 1644s 1s/step - loss: 5.4257\n",
            "Epoch 10/10\n",
            "1525/1525 [==============================] - 1665s 1s/step - loss: 4.7829\n"
          ]
        }
      ]
    },
    {
      "cell_type": "code",
      "metadata": {
        "execution": {
          "iopub.execute_input": "2021-10-04T10:02:35.863627Z",
          "iopub.status.busy": "2021-10-04T10:02:35.861920Z",
          "iopub.status.idle": "2021-10-04T10:02:35.864331Z",
          "shell.execute_reply": "2021-10-04T10:02:35.864758Z",
          "shell.execute_reply.started": "2021-10-03T10:30:57.371058Z"
        },
        "papermill": {
          "duration": 4.220394,
          "end_time": "2021-10-04T10:02:35.864897",
          "exception": false,
          "start_time": "2021-10-04T10:02:31.644503",
          "status": "completed"
        },
        "tags": [],
        "id": "38c5f5ff"
      },
      "source": [
        "from matplotlib import pyplot\n",
        "def summarize_diagnostics(history):\n",
        "    # plot loss\n",
        "    pyplot.subplot(211)\n",
        "    pyplot.title('Cross Entropy Loss')\n",
        "    pyplot.plot(history.history['loss'], color='blue', label='train')\n",
        "    #pyplot.plot(history.history['val_loss'], color='red', label='test')\n",
        "    pyplot.show()\n",
        "    # plot accuracy\n",
        "    #pyplot.subplot(212)\n",
        "    #pyplot.title('Classification Accuracy')\n",
        "    #pyplot.plot(history.history['accuracy'], color='blue', label='train')\n",
        "    #pyplot.plot(history.history['val_accuracy'], color='red', label='test')\n",
        "    #pyplot.show()"
      ],
      "id": "38c5f5ff",
      "execution_count": null,
      "outputs": []
    },
    {
      "cell_type": "code",
      "metadata": {
        "execution": {
          "iopub.execute_input": "2021-10-04T10:02:43.848159Z",
          "iopub.status.busy": "2021-10-04T10:02:43.847542Z",
          "iopub.status.idle": "2021-10-04T10:02:44.016788Z",
          "shell.execute_reply": "2021-10-04T10:02:44.016382Z",
          "shell.execute_reply.started": "2021-10-03T10:31:05.165384Z"
        },
        "papermill": {
          "duration": 4.148312,
          "end_time": "2021-10-04T10:02:44.016905",
          "exception": false,
          "start_time": "2021-10-04T10:02:39.868593",
          "status": "completed"
        },
        "tags": [],
        "id": "de5e2912",
        "outputId": "d7c8c989-3e02-4355-e5a4-130d73300ead"
      },
      "source": [
        "summarize_diagnostics(history)"
      ],
      "id": "de5e2912",
      "execution_count": null,
      "outputs": [
        {
          "data": {
            "image/png": "[encoded data removed]",
            "text/plain": [
              "<Figure size 432x288 with 1 Axes>"
            ]
          },
          "metadata": {
            "needs_background": "light"
          },
          "output_type": "display_data"
        }
      ]
    },
    {
      "cell_type": "code",
      "metadata": {
        "execution": {
          "iopub.execute_input": "2021-10-04T10:02:52.262691Z",
          "iopub.status.busy": "2021-10-04T10:02:52.261884Z",
          "iopub.status.idle": "2021-10-04T10:02:52.268894Z",
          "shell.execute_reply": "2021-10-04T10:02:52.268490Z",
          "shell.execute_reply.started": "2021-10-03T10:43:31.280118Z"
        },
        "papermill": {
          "duration": 3.980142,
          "end_time": "2021-10-04T10:02:52.269020",
          "exception": false,
          "start_time": "2021-10-04T10:02:48.288878",
          "status": "completed"
        },
        "tags": [],
        "id": "230f8314"
      },
      "source": [
        "%load_ext tensorboard"
      ],
      "id": "230f8314",
      "execution_count": null,
      "outputs": []
    },
    {
      "cell_type": "code",
      "metadata": {
        "execution": {
          "iopub.execute_input": "2021-10-04T10:03:00.962216Z",
          "iopub.status.busy": "2021-10-04T10:03:00.961624Z",
          "iopub.status.idle": "2021-10-04T10:03:08.102504Z",
          "shell.execute_reply": "2021-10-04T10:03:08.102965Z",
          "shell.execute_reply.started": "2021-10-03T10:43:32.168215Z"
        },
        "papermill": {
          "duration": 11.106797,
          "end_time": "2021-10-04T10:03:08.103135",
          "exception": false,
          "start_time": "2021-10-04T10:02:56.996338",
          "status": "completed"
        },
        "tags": [],
        "id": "38367203",
        "outputId": "d897a8a0-4abe-4d9c-a421-eb326b7b6a35"
      },
      "source": [
        "%tensorboard --logdir ."
      ],
      "id": "38367203",
      "execution_count": null,
      "outputs": [
        {
          "data": {
            "text/html": [
              "\n",
              "      <iframe id=\"tensorboard-frame-dd1413fdaab3572b\" width=\"100%\" height=\"800\" frameborder=\"0\">\n",
              "      </iframe>\n",
              "      <script>\n",
              "        (function() {\n",
              "          const frame = document.getElementById(\"tensorboard-frame-dd1413fdaab3572b\");\n",
              "          const url = new URL(\"/\", window.location);\n",
              "          const port = 6006;\n",
              "          if (port) {\n",
              "            url.port = port;\n",
              "          }\n",
              "          frame.src = url;\n",
              "        })();\n",
              "      </script>\n",
              "    "
            ],
            "text/plain": [
              "<IPython.core.display.HTML object>"
            ]
          },
          "metadata": {},
          "output_type": "display_data"
        }
      ]
    },
    {
      "cell_type": "code",
      "metadata": {
        "execution": {
          "iopub.execute_input": "2021-10-04T10:03:16.160501Z",
          "iopub.status.busy": "2021-10-04T10:03:16.159564Z",
          "iopub.status.idle": "2021-10-04T10:03:19.729872Z",
          "shell.execute_reply": "2021-10-04T10:03:19.729386Z",
          "shell.execute_reply.started": "2021-10-03T10:43:39.299679Z"
        },
        "papermill": {
          "duration": 7.672884,
          "end_time": "2021-10-04T10:03:19.729993",
          "exception": false,
          "start_time": "2021-10-04T10:03:12.057109",
          "status": "completed"
        },
        "tags": [],
        "id": "361b75c7",
        "outputId": "99c3af04-676e-413b-e707-9185b8c81a32"
      },
      "source": [
        "%load_ext tensorboard\n",
        "%tensorboard --logdir example_tensorboard"
      ],
      "id": "361b75c7",
      "execution_count": null,
      "outputs": [
        {
          "name": "stdout",
          "output_type": "stream",
          "text": [
            "The tensorboard extension is already loaded. To reload it, use:\n",
            "  %reload_ext tensorboard\n"
          ]
        },
        {
          "data": {
            "text/html": [
              "\n",
              "      <iframe id=\"tensorboard-frame-7dc9c55d5ad396b0\" width=\"100%\" height=\"800\" frameborder=\"0\">\n",
              "      </iframe>\n",
              "      <script>\n",
              "        (function() {\n",
              "          const frame = document.getElementById(\"tensorboard-frame-7dc9c55d5ad396b0\");\n",
              "          const url = new URL(\"/\", window.location);\n",
              "          const port = 6007;\n",
              "          if (port) {\n",
              "            url.port = port;\n",
              "          }\n",
              "          frame.src = url;\n",
              "        })();\n",
              "      </script>\n",
              "    "
            ],
            "text/plain": [
              "<IPython.core.display.HTML object>"
            ]
          },
          "metadata": {},
          "output_type": "display_data"
        }
      ]
    },
    {
      "cell_type": "code",
      "metadata": {
        "execution": {
          "iopub.execute_input": "2021-10-04T10:03:28.362480Z",
          "iopub.status.busy": "2021-10-04T10:03:28.361559Z",
          "iopub.status.idle": "2021-10-04T10:03:28.363229Z",
          "shell.execute_reply": "2021-10-04T10:03:28.363767Z",
          "shell.execute_reply.started": "2021-10-03T10:44:06.845215Z"
        },
        "id": "cc137386",
        "papermill": {
          "duration": 4.595736,
          "end_time": "2021-10-04T10:03:28.363906",
          "exception": false,
          "start_time": "2021-10-04T10:03:23.768170",
          "status": "completed"
        },
        "tags": []
      },
      "source": [
        "import pickle"
      ],
      "id": "cc137386",
      "execution_count": null,
      "outputs": []
    },
    {
      "cell_type": "code",
      "metadata": {
        "execution": {
          "iopub.execute_input": "2021-10-04T10:03:36.695048Z",
          "iopub.status.busy": "2021-10-04T10:03:36.694239Z",
          "iopub.status.idle": "2021-10-04T10:03:37.050018Z",
          "shell.execute_reply": "2021-10-04T10:03:37.049368Z",
          "shell.execute_reply.started": "2021-10-03T10:44:11.267345Z"
        },
        "id": "e667e47d",
        "papermill": {
          "duration": 4.484357,
          "end_time": "2021-10-04T10:03:37.050151",
          "exception": false,
          "start_time": "2021-10-04T10:03:32.565794",
          "status": "completed"
        },
        "tags": []
      },
      "source": [
        "model.save_weights(\"./weights_1_seq_model.h5\")"
      ],
      "id": "e667e47d",
      "execution_count": null,
      "outputs": []
    },
    {
      "cell_type": "code",
      "metadata": {
        "execution": {
          "iopub.execute_input": "2021-10-04T10:03:45.335292Z",
          "iopub.status.busy": "2021-10-04T10:03:45.318806Z",
          "iopub.status.idle": "2021-10-04T10:03:48.448805Z",
          "shell.execute_reply": "2021-10-04T10:03:48.447945Z",
          "shell.execute_reply.started": "2021-10-04T05:10:11.952034Z"
        },
        "papermill": {
          "duration": 7.134575,
          "end_time": "2021-10-04T10:03:48.448943",
          "exception": false,
          "start_time": "2021-10-04T10:03:41.314368",
          "status": "completed"
        },
        "tags": [],
        "id": "9b17d012"
      },
      "source": [
        "model.load_weights(\"../input/weight/weights_seq_model.h5\")"
      ],
      "id": "9b17d012",
      "execution_count": null,
      "outputs": []
    },
    {
      "cell_type": "code",
      "metadata": {
        "execution": {
          "iopub.execute_input": "2021-10-04T10:03:56.902735Z",
          "iopub.status.busy": "2021-10-04T10:03:56.901895Z",
          "iopub.status.idle": "2021-10-04T10:04:25.026149Z",
          "shell.execute_reply": "2021-10-04T10:04:25.025123Z",
          "shell.execute_reply.started": "2021-10-04T05:10:17.856233Z"
        },
        "id": "6c500981",
        "papermill": {
          "duration": 32.239924,
          "end_time": "2021-10-04T10:04:25.026316",
          "exception": false,
          "start_time": "2021-10-04T10:03:52.786392",
          "status": "completed"
        },
        "tags": [],
        "outputId": "7d833678-ab58-4e2a-8fa1-e4410ff6dcb1"
      },
      "source": [
        "model.save('./model_saved')"
      ],
      "id": "6c500981",
      "execution_count": null,
      "outputs": [
        {
          "name": "stderr",
          "output_type": "stream",
          "text": [
            "2021-10-04 10:04:06.408609: W tensorflow/python/util/util.cc:348] Sets are not currently considered sequences, but this may change in the future, so consider avoiding using them.\n"
          ]
        }
      ]
    },
    {
      "cell_type": "code",
      "metadata": {
        "execution": {
          "iopub.execute_input": "2021-10-04T10:04:33.632297Z",
          "iopub.status.busy": "2021-10-04T10:04:33.631689Z",
          "iopub.status.idle": "2021-10-04T10:04:44.231295Z",
          "shell.execute_reply": "2021-10-04T10:04:44.230555Z",
          "shell.execute_reply.started": "2021-10-04T05:10:54.277960Z"
        },
        "id": "abe637d6",
        "papermill": {
          "duration": 15.13915,
          "end_time": "2021-10-04T10:04:44.231508",
          "exception": false,
          "start_time": "2021-10-04T10:04:29.092358",
          "status": "completed"
        },
        "tags": []
      },
      "source": [
        "model_1 = tf.keras.models.load_model('./model_saved', compile=False)"
      ],
      "id": "abe637d6",
      "execution_count": null,
      "outputs": []
    },
    {
      "cell_type": "code",
      "metadata": {
        "execution": {
          "iopub.execute_input": "2021-10-04T10:04:52.508366Z",
          "iopub.status.busy": "2021-10-04T10:04:52.507509Z",
          "iopub.status.idle": "2021-10-04T10:04:52.511779Z",
          "shell.execute_reply": "2021-10-04T10:04:52.511206Z",
          "shell.execute_reply.started": "2021-10-04T05:11:06.374031Z"
        },
        "id": "d344aaf4",
        "papermill": {
          "duration": 3.990527,
          "end_time": "2021-10-04T10:04:52.511924",
          "exception": false,
          "start_time": "2021-10-04T10:04:48.521397",
          "status": "completed"
        },
        "tags": [],
        "outputId": "59eeb217-b947-40dc-d625-86f8b8b38dba"
      },
      "source": [
        "model_1.summary()"
      ],
      "id": "d344aaf4",
      "execution_count": null,
      "outputs": [
        {
          "name": "stdout",
          "output_type": "stream",
          "text": [
            "Model: \"model\"\n",
            "__________________________________________________________________________________________________\n",
            "Layer (type)                    Output Shape         Param #     Connected to                     \n",
            "==================================================================================================\n",
            "input_image (InputLayer)        [(None, 64, 64, 3)]  0                                            \n",
            "__________________________________________________________________________________________________\n",
            "resnet50 (Functional)           (None, None, None, 2 23587712    input_image[0][0]                \n",
            "__________________________________________________________________________________________________\n",
            "batch_normalization (BatchNorma (None, 2, 2, 2048)   8192        resnet50[0][0]                   \n",
            "__________________________________________________________________________________________________\n",
            "dropout (Dropout)               (None, 2, 2, 2048)   0           batch_normalization[0][0]        \n",
            "__________________________________________________________________________________________________\n",
            "flatten (Flatten)               (None, 8192)         0           dropout[0][0]                    \n",
            "__________________________________________________________________________________________________\n",
            "dense (Dense)                   (None, 64)           524352      flatten[0][0]                    \n",
            "__________________________________________________________________________________________________\n",
            "label (InputLayer)              [(None,)]            0                                            \n",
            "__________________________________________________________________________________________________\n",
            "dense_1 (Dense)                 (None, 7770)         505050      dense[0][0]                      \n",
            "==================================================================================================\n",
            "Total params: 24,625,306\n",
            "Trainable params: 24,568,090\n",
            "Non-trainable params: 57,216\n",
            "__________________________________________________________________________________________________\n"
          ]
        }
      ]
    },
    {
      "cell_type": "code",
      "metadata": {
        "execution": {
          "iopub.execute_input": "2021-10-04T10:05:01.108492Z",
          "iopub.status.busy": "2021-10-04T10:05:01.107608Z",
          "iopub.status.idle": "2021-10-04T10:05:01.112691Z",
          "shell.execute_reply": "2021-10-04T10:05:01.112147Z",
          "shell.execute_reply.started": "2021-10-04T05:11:07.534368Z"
        },
        "id": "31317ca1",
        "papermill": {
          "duration": 4.438557,
          "end_time": "2021-10-04T10:05:01.112842",
          "exception": false,
          "start_time": "2021-10-04T10:04:56.674285",
          "status": "completed"
        },
        "tags": []
      },
      "source": [
        "model_test = Model(model_1.input[0],model_1.layers[5].output)"
      ],
      "id": "31317ca1",
      "execution_count": null,
      "outputs": []
    },
    {
      "cell_type": "code",
      "metadata": {
        "execution": {
          "iopub.execute_input": "2021-10-04T10:05:09.912933Z",
          "iopub.status.busy": "2021-10-04T10:05:09.911244Z",
          "iopub.status.idle": "2021-10-04T10:05:09.913559Z",
          "shell.execute_reply": "2021-10-04T10:05:09.913963Z",
          "shell.execute_reply.started": "2021-10-04T05:11:09.077057Z"
        },
        "id": "89a8d397",
        "papermill": {
          "duration": 4.31461,
          "end_time": "2021-10-04T10:05:09.914101",
          "exception": false,
          "start_time": "2021-10-04T10:05:05.599491",
          "status": "completed"
        },
        "tags": []
      },
      "source": [
        "def image_reading(file):\n",
        "    \n",
        "    \n",
        "    image = tf.io.read_file(file)\n",
        "    \n",
        "    image = tf.image.decode_jpeg(image, channels=3)\n",
        "    \n",
        "    \n",
        "    image = tf.image.resize(image, [64,64])\n",
        "    \n",
        "    \n",
        "    image = tf.cast(image, tf.float32)\n",
        "    \n",
        "    image /= 255.0\n",
        "    \n",
        "    \n",
        "    return image"
      ],
      "id": "89a8d397",
      "execution_count": null,
      "outputs": []
    },
    {
      "cell_type": "code",
      "metadata": {
        "execution": {
          "iopub.execute_input": "2021-10-04T10:05:18.031522Z",
          "iopub.status.busy": "2021-10-04T10:05:18.030915Z",
          "iopub.status.idle": "2021-10-04T10:05:18.063570Z",
          "shell.execute_reply": "2021-10-04T10:05:18.062609Z",
          "shell.execute_reply.started": "2021-10-04T05:11:10.673652Z"
        },
        "id": "78255c8b",
        "papermill": {
          "duration": 4.173249,
          "end_time": "2021-10-04T10:05:18.063706",
          "exception": false,
          "start_time": "2021-10-04T10:05:13.890457",
          "status": "completed"
        },
        "tags": []
      },
      "source": [
        "test_image = np.expand_dims(image_reading('../input/hotel-id-2021-fgvc8/test_images/99e91ad5f2870678.jpg'),0)"
      ],
      "id": "78255c8b",
      "execution_count": null,
      "outputs": []
    },
    {
      "cell_type": "code",
      "metadata": {
        "execution": {
          "iopub.execute_input": "2021-10-04T10:05:26.455055Z",
          "iopub.status.busy": "2021-10-04T10:05:26.454184Z",
          "iopub.status.idle": "2021-10-04T10:05:54.240243Z",
          "shell.execute_reply": "2021-10-04T10:05:54.239690Z",
          "shell.execute_reply.started": "2021-10-04T05:11:26.119482Z"
        },
        "id": "1aa03824",
        "papermill": {
          "duration": 31.832158,
          "end_time": "2021-10-04T10:05:54.240394",
          "exception": false,
          "start_time": "2021-10-04T10:05:22.408236",
          "status": "completed"
        },
        "tags": []
      },
      "source": [
        "model_test.save('./test_model')"
      ],
      "id": "1aa03824",
      "execution_count": null,
      "outputs": []
    },
    {
      "cell_type": "code",
      "metadata": {
        "execution": {
          "iopub.execute_input": "2021-10-04T10:06:02.294180Z",
          "iopub.status.busy": "2021-10-04T10:06:02.293640Z",
          "iopub.status.idle": "2021-10-04T10:06:12.539580Z",
          "shell.execute_reply": "2021-10-04T10:06:12.538863Z",
          "shell.execute_reply.started": "2021-10-03T10:46:28.521929Z"
        },
        "id": "5ff0c2d4",
        "papermill": {
          "duration": 14.225148,
          "end_time": "2021-10-04T10:06:12.539772",
          "exception": false,
          "start_time": "2021-10-04T10:05:58.314624",
          "status": "completed"
        },
        "tags": []
      },
      "source": [
        "test_model = tf.keras.models.load_model('./test_model', compile=False)"
      ],
      "id": "5ff0c2d4",
      "execution_count": null,
      "outputs": []
    },
    {
      "cell_type": "code",
      "metadata": {
        "execution": {
          "iopub.execute_input": "2021-10-04T10:06:20.986454Z",
          "iopub.status.busy": "2021-10-04T10:06:20.985181Z",
          "iopub.status.idle": "2021-10-04T10:06:33.218541Z",
          "shell.execute_reply": "2021-10-04T10:06:33.218979Z",
          "shell.execute_reply.started": "2021-10-03T10:46:43.186132Z"
        },
        "id": "2e30f7db",
        "papermill": {
          "duration": 16.277926,
          "end_time": "2021-10-04T10:06:33.219128",
          "exception": false,
          "start_time": "2021-10-04T10:06:16.941202",
          "status": "completed"
        },
        "tags": [],
        "outputId": "ae06feba-7e5f-44dc-88de-25383e1c032d"
      },
      "source": [
        "#https://heartbeat.comet.ml/training-an-image-classification-model-for-mobile-using-tensorflow-lite-5ad9537841e6\n",
        "tflite_converter = tf.lite.TFLiteConverter.from_saved_model('./test_model') \n",
        "tflite_converter.optimizations = [tf.lite.Optimize.DEFAULT]\n",
        "tflite_converter.target_spec.supported_types = [tf.float16]\n",
        "tflite_model = tflite_converter.convert()\n",
        "\n",
        "with open('./test_model_tflite', 'wb') as f:\n",
        "    f.write(tflite_model)"
      ],
      "id": "2e30f7db",
      "execution_count": null,
      "outputs": [
        {
          "name": "stderr",
          "output_type": "stream",
          "text": [
            "2021-10-04 10:06:29.512807: W tensorflow/compiler/mlir/lite/python/tf_tfl_flatbuffer_helpers.cc:316] Ignored output_format.\n",
            "2021-10-04 10:06:29.512870: W tensorflow/compiler/mlir/lite/python/tf_tfl_flatbuffer_helpers.cc:319] Ignored drop_control_dependency.\n",
            "2021-10-04 10:06:29.512885: W tensorflow/compiler/mlir/lite/python/tf_tfl_flatbuffer_helpers.cc:325] Ignored change_concat_input_ranges.\n",
            "2021-10-04 10:06:29.515351: I tensorflow/cc/saved_model/reader.cc:32] Reading SavedModel from: ./test_model\n",
            "2021-10-04 10:06:29.587103: I tensorflow/cc/saved_model/reader.cc:55] Reading meta graph with tags { serve }\n",
            "2021-10-04 10:06:29.587158: I tensorflow/cc/saved_model/reader.cc:93] Reading SavedModel debug info (if present) from: ./test_model\n",
            "2021-10-04 10:06:29.587946: I tensorflow/compiler/jit/xla_gpu_device.cc:99] Not creating XLA devices, tf_xla_enable_xla_devices not set\n",
            "2021-10-04 10:06:29.587991: I tensorflow/core/common_runtime/gpu/gpu_device.cc:1261] Device interconnect StreamExecutor with strength 1 edge matrix:\n",
            "2021-10-04 10:06:29.587998: I tensorflow/core/common_runtime/gpu/gpu_device.cc:1267]      \n",
            "2021-10-04 10:06:29.768995: I tensorflow/compiler/mlir/mlir_graph_optimization_pass.cc:196] None of the MLIR optimization passes are enabled (registered 0 passes)\n",
            "2021-10-04 10:06:29.808097: I tensorflow/cc/saved_model/loader.cc:206] Restoring SavedModel bundle.\n",
            "2021-10-04 10:06:30.366616: I tensorflow/cc/saved_model/loader.cc:190] Running initialization op on SavedModel bundle at path: ./test_model\n",
            "2021-10-04 10:06:30.530815: I tensorflow/cc/saved_model/loader.cc:277] SavedModel load for tags { serve }; Status: success: OK. Took 1015469 microseconds.\n",
            "2021-10-04 10:06:31.120639: I tensorflow/compiler/mlir/tensorflow/utils/dump_mlir_util.cc:194] disabling MLIR crash reproducer, set env var `MLIR_CRASH_REPRODUCER_DIRECTORY` to enable.\n",
            "2021-10-04 10:06:31.701729: I tensorflow/compiler/jit/xla_gpu_device.cc:99] Not creating XLA devices, tf_xla_enable_xla_devices not set\n",
            "2021-10-04 10:06:31.702120: I tensorflow/stream_executor/cuda/cuda_gpu_executor.cc:941] successful NUMA node read from SysFS had negative value (-1), but there must be at least one NUMA node, so returning NUMA node zero\n",
            "2021-10-04 10:06:31.702709: I tensorflow/core/common_runtime/gpu/gpu_device.cc:1720] Found device 0 with properties: \n",
            "pciBusID: 0000:00:04.0 name: Tesla P100-PCIE-16GB computeCapability: 6.0\n",
            "coreClock: 1.3285GHz coreCount: 56 deviceMemorySize: 15.90GiB deviceMemoryBandwidth: 681.88GiB/s\n",
            "2021-10-04 10:06:31.703823: I tensorflow/stream_executor/platform/default/dso_loader.cc:49] Successfully opened dynamic library libcudart.so.11.0\n",
            "2021-10-04 10:06:31.704724: I tensorflow/stream_executor/platform/default/dso_loader.cc:49] Successfully opened dynamic library libcublas.so.11\n",
            "2021-10-04 10:06:31.705728: I tensorflow/stream_executor/platform/default/dso_loader.cc:49] Successfully opened dynamic library libcublasLt.so.11\n",
            "2021-10-04 10:06:31.706679: I tensorflow/stream_executor/platform/default/dso_loader.cc:49] Successfully opened dynamic library libcufft.so.10\n",
            "2021-10-04 10:06:31.707589: I tensorflow/stream_executor/platform/default/dso_loader.cc:49] Successfully opened dynamic library libcurand.so.10\n",
            "2021-10-04 10:06:31.708512: I tensorflow/stream_executor/platform/default/dso_loader.cc:49] Successfully opened dynamic library libcusolver.so.10\n",
            "2021-10-04 10:06:31.709605: I tensorflow/stream_executor/platform/default/dso_loader.cc:49] Successfully opened dynamic library libcusparse.so.11\n",
            "2021-10-04 10:06:31.710632: I tensorflow/stream_executor/platform/default/dso_loader.cc:49] Successfully opened dynamic library libcudnn.so.8\n",
            "2021-10-04 10:06:31.710840: I tensorflow/stream_executor/cuda/cuda_gpu_executor.cc:941] successful NUMA node read from SysFS had negative value (-1), but there must be at least one NUMA node, so returning NUMA node zero\n",
            "2021-10-04 10:06:31.711543: I tensorflow/stream_executor/cuda/cuda_gpu_executor.cc:941] successful NUMA node read from SysFS had negative value (-1), but there must be at least one NUMA node, so returning NUMA node zero\n",
            "2021-10-04 10:06:31.711931: I tensorflow/core/common_runtime/gpu/gpu_device.cc:1862] Adding visible gpu devices: 0\n",
            "2021-10-04 10:06:31.711990: I tensorflow/core/common_runtime/gpu/gpu_device.cc:1261] Device interconnect StreamExecutor with strength 1 edge matrix:\n",
            "2021-10-04 10:06:31.712008: I tensorflow/core/common_runtime/gpu/gpu_device.cc:1267]      0 \n",
            "2021-10-04 10:06:31.712018: I tensorflow/core/common_runtime/gpu/gpu_device.cc:1280] 0:   N \n",
            "2021-10-04 10:06:31.712205: I tensorflow/stream_executor/cuda/cuda_gpu_executor.cc:941] successful NUMA node read from SysFS had negative value (-1), but there must be at least one NUMA node, so returning NUMA node zero\n",
            "2021-10-04 10:06:31.712627: I tensorflow/stream_executor/cuda/cuda_gpu_executor.cc:941] successful NUMA node read from SysFS had negative value (-1), but there must be at least one NUMA node, so returning NUMA node zero\n",
            "2021-10-04 10:06:31.712954: I tensorflow/core/common_runtime/gpu/gpu_device.cc:1406] Created TensorFlow device (/job:localhost/replica:0/task:0/device:GPU:0 with 14957 MB memory) -> physical GPU (device: 0, name: Tesla P100-PCIE-16GB, pci bus id: 0000:00:04.0, compute capability: 6.0)\n"
          ]
        }
      ]
    },
    {
      "cell_type": "code",
      "metadata": {
        "execution": {
          "iopub.execute_input": "2021-10-04T10:06:42.046586Z",
          "iopub.status.busy": "2021-10-04T10:06:42.045010Z",
          "iopub.status.idle": "2021-10-04T10:06:42.047168Z",
          "shell.execute_reply": "2021-10-04T10:06:42.047598Z",
          "shell.execute_reply.started": "2021-10-03T10:47:06.426525Z"
        },
        "id": "24470ca3",
        "papermill": {
          "duration": 4.507134,
          "end_time": "2021-10-04T10:06:42.047745",
          "exception": false,
          "start_time": "2021-10-04T10:06:37.540611",
          "status": "completed"
        },
        "tags": []
      },
      "source": [
        "tflite_test_model = tf.lite.Interpreter('./test_model_tflite')"
      ],
      "id": "24470ca3",
      "execution_count": null,
      "outputs": []
    },
    {
      "cell_type": "code",
      "metadata": {
        "execution": {
          "iopub.execute_input": "2021-10-04T10:06:50.332567Z",
          "iopub.status.busy": "2021-10-04T10:06:50.331630Z",
          "iopub.status.idle": "2021-10-04T10:06:50.333612Z",
          "shell.execute_reply": "2021-10-04T10:06:50.334013Z",
          "shell.execute_reply.started": "2021-10-03T10:47:23.583464Z"
        },
        "id": "c9f96372",
        "papermill": {
          "duration": 4.295332,
          "end_time": "2021-10-04T10:06:50.334151",
          "exception": false,
          "start_time": "2021-10-04T10:06:46.038819",
          "status": "completed"
        },
        "tags": []
      },
      "source": [
        "tflite_test_model.allocate_tensors()"
      ],
      "id": "c9f96372",
      "execution_count": null,
      "outputs": []
    },
    {
      "cell_type": "code",
      "metadata": {
        "execution": {
          "iopub.execute_input": "2021-10-04T10:06:58.662022Z",
          "iopub.status.busy": "2021-10-04T10:06:58.661146Z",
          "iopub.status.idle": "2021-10-04T10:06:58.663071Z",
          "shell.execute_reply": "2021-10-04T10:06:58.663491Z",
          "shell.execute_reply.started": "2021-10-03T10:48:09.908015Z"
        },
        "id": "f4c6ffab",
        "papermill": {
          "duration": 4.285387,
          "end_time": "2021-10-04T10:06:58.663628",
          "exception": false,
          "start_time": "2021-10-04T10:06:54.378241",
          "status": "completed"
        },
        "tags": []
      },
      "source": [
        "details_input = tflite_test_model.get_input_details()\n",
        "details_output = tflite_test_model.get_output_details()"
      ],
      "id": "f4c6ffab",
      "execution_count": null,
      "outputs": []
    },
    {
      "cell_type": "code",
      "metadata": {
        "execution": {
          "iopub.execute_input": "2021-10-04T10:07:06.786754Z",
          "iopub.status.busy": "2021-10-04T10:07:06.786150Z",
          "iopub.status.idle": "2021-10-04T10:07:06.790044Z",
          "shell.execute_reply": "2021-10-04T10:07:06.789621Z",
          "shell.execute_reply.started": "2021-10-03T10:48:22.122663Z"
        },
        "id": "40d929d0",
        "papermill": {
          "duration": 4.103382,
          "end_time": "2021-10-04T10:07:06.790161",
          "exception": false,
          "start_time": "2021-10-04T10:07:02.686779",
          "status": "completed"
        },
        "tags": []
      },
      "source": [
        "tflite_test_model.set_tensor(details_input[0]['index'], test_image)"
      ],
      "id": "40d929d0",
      "execution_count": null,
      "outputs": []
    },
    {
      "cell_type": "code",
      "metadata": {
        "execution": {
          "iopub.execute_input": "2021-10-04T10:07:15.547887Z",
          "iopub.status.busy": "2021-10-04T10:07:15.547198Z",
          "iopub.status.idle": "2021-10-04T10:07:15.923751Z",
          "shell.execute_reply": "2021-10-04T10:07:15.923299Z",
          "shell.execute_reply.started": "2021-10-03T10:48:34.832945Z"
        },
        "id": "83702e7b",
        "papermill": {
          "duration": 4.839307,
          "end_time": "2021-10-04T10:07:15.923881",
          "exception": false,
          "start_time": "2021-10-04T10:07:11.084574",
          "status": "completed"
        },
        "tags": []
      },
      "source": [
        "tflite_test_model.invoke()"
      ],
      "id": "83702e7b",
      "execution_count": null,
      "outputs": []
    },
    {
      "cell_type": "code",
      "metadata": {
        "execution": {
          "iopub.execute_input": "2021-10-04T10:07:24.163865Z",
          "iopub.status.busy": "2021-10-04T10:07:24.162846Z",
          "iopub.status.idle": "2021-10-04T10:07:24.166027Z",
          "shell.execute_reply": "2021-10-04T10:07:24.166528Z",
          "shell.execute_reply.started": "2021-10-03T10:48:36.404037Z"
        },
        "id": "5949710b",
        "papermill": {
          "duration": 4.12625,
          "end_time": "2021-10-04T10:07:24.166668",
          "exception": false,
          "start_time": "2021-10-04T10:07:20.040418",
          "status": "completed"
        },
        "tags": [],
        "outputId": "e65925e0-f9ff-4fe0-b5b1-8cbf17bcff8b"
      },
      "source": [
        "test_embeddings = tflite_test_model.get_tensor(details_output[0]['index'])\n",
        "print(test_embeddings)"
      ],
      "id": "5949710b",
      "execution_count": null,
      "outputs": [
        {
          "name": "stdout",
          "output_type": "stream",
          "text": [
            "[[ -6.3154993    4.0402455  -12.650174    -2.9327612   -5.105813\n",
            "    5.383431    -3.6759338  -13.737408     5.3012576   -8.882378\n",
            "   -3.8132398    2.9085405    0.84902763  -0.90787244   2.8945603\n",
            "    0.16859293  -0.2002405    0.6411116    5.9615583   -0.6896784\n",
            "   -3.4832673    7.1493015    6.5911865   -3.4217267  -10.49438\n",
            "   10.153185    -1.8835742    0.24248242  -0.95340574   2.434887\n",
            "    4.9138045    5.2347183    4.0901303    1.737188    11.43109\n",
            "    0.20255864   2.110139     2.8917382   -0.5788465    2.745613\n",
            "   -5.749248    10.402894     0.25719786   1.6897717   -2.5914237\n",
            "   -5.3450727   -4.882663     3.0223856    2.141481    -9.602221\n",
            "  -13.634017    -7.885146    -1.7958091    2.0522487   -2.6905704\n",
            "   -6.184169     9.743035   -18.533894     1.1367321   -1.1233654\n",
            "   12.598335     0.8579635    7.6399336   -1.0603817 ]]\n"
          ]
        }
      ]
    },
    {
      "cell_type": "code",
      "metadata": {
        "execution": {
          "iopub.execute_input": "2021-10-04T10:07:32.627150Z",
          "iopub.status.busy": "2021-10-04T10:07:32.626514Z",
          "iopub.status.idle": "2021-10-04T10:07:32.629314Z",
          "shell.execute_reply": "2021-10-04T10:07:32.629720Z",
          "shell.execute_reply.started": "2021-10-03T10:48:37.393113Z"
        },
        "id": "e3e6fe2d",
        "papermill": {
          "duration": 4.3108,
          "end_time": "2021-10-04T10:07:32.629856",
          "exception": false,
          "start_time": "2021-10-04T10:07:28.319056",
          "status": "completed"
        },
        "tags": [],
        "outputId": "d600192e-7b43-4604-e3b1-2d39ae72cd6a"
      },
      "source": [
        "norm = np.linalg.norm(test_embeddings, axis=1, keepdims=True)\n",
        "test_embeddings = test_embeddings / norm\n",
        "test_embeddings"
      ],
      "id": "e3e6fe2d",
      "execution_count": null,
      "outputs": [
        {
          "data": {
            "text/plain": [
              "array([[-0.12647577,  0.08091097, -0.25333557, -0.05873221, -0.10225029,\n",
              "         0.10780994, -0.07361517, -0.27510875,  0.10616431, -0.17788072,\n",
              "        -0.0763649 ,  0.05824716,  0.01700284, -0.01818128,  0.05796719,\n",
              "         0.00337628, -0.00401007,  0.01283906,  0.11938766, -0.01381167,\n",
              "        -0.06975678,  0.14317371,  0.13199675, -0.06852435, -0.21016309,\n",
              "         0.20333022, -0.03772093,  0.00485601, -0.01909314,  0.04876165,\n",
              "         0.09840508,  0.10483178,  0.08190998,  0.03478936,  0.22892188,\n",
              "         0.00405649,  0.04225817,  0.05791067, -0.01159213,  0.05498433,\n",
              "        -0.11513588,  0.20833096,  0.00515071,  0.03383979, -0.0518965 ,\n",
              "        -0.10704177, -0.09778143,  0.06052705,  0.04288583, -0.19229648,\n",
              "        -0.27303824, -0.15790991, -0.03596332,  0.04109885, -0.05388204,\n",
              "        -0.12384571,  0.19511646, -0.37116438,  0.02276448, -0.0224968 ,\n",
              "         0.25229743,  0.01718179,  0.15299922, -0.02123547]],\n",
              "      dtype=float32)"
            ]
          },
          "execution_count": 56,
          "metadata": {},
          "output_type": "execute_result"
        }
      ]
    },
    {
      "cell_type": "code",
      "metadata": {
        "execution": {
          "iopub.execute_input": "2021-10-04T10:07:40.724344Z",
          "iopub.status.busy": "2021-10-04T10:07:40.723751Z",
          "iopub.status.idle": "2021-10-04T10:07:40.913344Z",
          "shell.execute_reply": "2021-10-04T10:07:40.912781Z",
          "shell.execute_reply.started": "2021-10-03T10:48:38.355607Z"
        },
        "id": "1468378f",
        "papermill": {
          "duration": 4.191895,
          "end_time": "2021-10-04T10:07:40.913503",
          "exception": false,
          "start_time": "2021-10-04T10:07:36.721608",
          "status": "completed"
        },
        "tags": []
      },
      "source": [
        "df_train = pd.read_csv('../input/hotel-id-2021-fgvc8/train.csv')"
      ],
      "id": "1468378f",
      "execution_count": null,
      "outputs": []
    },
    {
      "cell_type": "code",
      "metadata": {
        "execution": {
          "iopub.execute_input": "2021-10-04T10:07:49.794954Z",
          "iopub.status.busy": "2021-10-04T10:07:49.787544Z",
          "iopub.status.idle": "2021-10-04T10:07:49.837847Z",
          "shell.execute_reply": "2021-10-04T10:07:49.838279Z",
          "shell.execute_reply.started": "2021-10-03T10:48:39.416871Z"
        },
        "id": "1726ed64",
        "papermill": {
          "duration": 4.197087,
          "end_time": "2021-10-04T10:07:49.838426",
          "exception": false,
          "start_time": "2021-10-04T10:07:45.641339",
          "status": "completed"
        },
        "tags": [],
        "outputId": "8a83b3cb-bad8-43c4-9030-6277d7761ec1"
      },
      "source": [
        "df_train['train_images']= train_images + df_train.chain.astype(str) +'/'+ df_train.image\n",
        "df_train.head()"
      ],
      "id": "1726ed64",
      "execution_count": null,
      "outputs": [
        {
          "data": {
            "text/html": [
              "<div>\n",
              "<style scoped>\n",
              "    .dataframe tbody tr th:only-of-type {\n",
              "        vertical-align: middle;\n",
              "    }\n",
              "\n",
              "    .dataframe tbody tr th {\n",
              "        vertical-align: top;\n",
              "    }\n",
              "\n",
              "    .dataframe thead th {\n",
              "        text-align: right;\n",
              "    }\n",
              "</style>\n",
              "<table border=\"1\" class=\"dataframe\">\n",
              "  <thead>\n",
              "    <tr style=\"text-align: right;\">\n",
              "      <th></th>\n",
              "      <th>image</th>\n",
              "      <th>chain</th>\n",
              "      <th>hotel_id</th>\n",
              "      <th>timestamp</th>\n",
              "      <th>train_images</th>\n",
              "    </tr>\n",
              "  </thead>\n",
              "  <tbody>\n",
              "    <tr>\n",
              "      <th>0</th>\n",
              "      <td>8000d59f6a3d765f.jpg</td>\n",
              "      <td>85</td>\n",
              "      <td>24607</td>\n",
              "      <td>2018-11-28 05:42:31</td>\n",
              "      <td>../input/hotel-id-2021-fgvc8/train_images/85/8...</td>\n",
              "    </tr>\n",
              "    <tr>\n",
              "      <th>1</th>\n",
              "      <td>8000febe81817f7f.jpg</td>\n",
              "      <td>6</td>\n",
              "      <td>25389</td>\n",
              "      <td>2017-01-01 07:01:46</td>\n",
              "      <td>../input/hotel-id-2021-fgvc8/train_images/6/80...</td>\n",
              "    </tr>\n",
              "    <tr>\n",
              "      <th>2</th>\n",
              "      <td>80053befc2d42fba.jpg</td>\n",
              "      <td>3</td>\n",
              "      <td>672</td>\n",
              "      <td>2018-01-26 13:22:07</td>\n",
              "      <td>../input/hotel-id-2021-fgvc8/train_images/3/80...</td>\n",
              "    </tr>\n",
              "    <tr>\n",
              "      <th>3</th>\n",
              "      <td>8007fa0a8fe89f9d.jpg</td>\n",
              "      <td>5</td>\n",
              "      <td>63866</td>\n",
              "      <td>2020-07-03 02:31:31</td>\n",
              "      <td>../input/hotel-id-2021-fgvc8/train_images/5/80...</td>\n",
              "    </tr>\n",
              "    <tr>\n",
              "      <th>4</th>\n",
              "      <td>800a4a6b6f6d2df6.jpg</td>\n",
              "      <td>0</td>\n",
              "      <td>12036</td>\n",
              "      <td>2017-09-22 17:59:22</td>\n",
              "      <td>../input/hotel-id-2021-fgvc8/train_images/0/80...</td>\n",
              "    </tr>\n",
              "  </tbody>\n",
              "</table>\n",
              "</div>"
            ],
            "text/plain": [
              "                  image  chain  hotel_id            timestamp  \\\n",
              "0  8000d59f6a3d765f.jpg     85     24607  2018-11-28 05:42:31   \n",
              "1  8000febe81817f7f.jpg      6     25389  2017-01-01 07:01:46   \n",
              "2  80053befc2d42fba.jpg      3       672  2018-01-26 13:22:07   \n",
              "3  8007fa0a8fe89f9d.jpg      5     63866  2020-07-03 02:31:31   \n",
              "4  800a4a6b6f6d2df6.jpg      0     12036  2017-09-22 17:59:22   \n",
              "\n",
              "                                        train_images  \n",
              "0  ../input/hotel-id-2021-fgvc8/train_images/85/8...  \n",
              "1  ../input/hotel-id-2021-fgvc8/train_images/6/80...  \n",
              "2  ../input/hotel-id-2021-fgvc8/train_images/3/80...  \n",
              "3  ../input/hotel-id-2021-fgvc8/train_images/5/80...  \n",
              "4  ../input/hotel-id-2021-fgvc8/train_images/0/80...  "
            ]
          },
          "execution_count": 58,
          "metadata": {},
          "output_type": "execute_result"
        }
      ]
    },
    {
      "cell_type": "code",
      "metadata": {
        "execution": {
          "iopub.execute_input": "2021-10-04T10:07:58.140634Z",
          "iopub.status.busy": "2021-10-04T10:07:58.122766Z",
          "iopub.status.idle": "2021-10-04T10:07:58.213304Z",
          "shell.execute_reply": "2021-10-04T10:07:58.213723Z",
          "shell.execute_reply.started": "2021-10-03T10:48:40.528213Z"
        },
        "id": "09ad71d9",
        "papermill": {
          "duration": 4.186129,
          "end_time": "2021-10-04T10:07:58.213871",
          "exception": false,
          "start_time": "2021-10-04T10:07:54.027742",
          "status": "completed"
        },
        "tags": [],
        "outputId": "b6359008-d0bf-4ff7-9295-d99fb3189c54"
      },
      "source": [
        "train_filenames  = tf.convert_to_tensor(df_train['train_images'].tolist(), dtype=tf.string)\n",
        "\n",
        "train_dataset = tf.data.Dataset.from_tensor_slices(train_filenames)\n",
        "\n",
        "train_dataset = train_dataset.shuffle(len(train_filenames))\n",
        "\n",
        "\n",
        "train_dataset = train_dataset.map(image_reading,num_parallel_calls=tf.data.AUTOTUNE)\n",
        "\n",
        "train_dataset = train_dataset.batch(64)\n",
        "train_dataset = train_dataset.prefetch(2)\n",
        "\n",
        "train_dataset"
      ],
      "id": "09ad71d9",
      "execution_count": null,
      "outputs": [
        {
          "data": {
            "text/plain": [
              "<PrefetchDataset shapes: (None, 64, 64, 3), types: tf.float32>"
            ]
          },
          "execution_count": 59,
          "metadata": {},
          "output_type": "execute_result"
        }
      ]
    },
    {
      "cell_type": "code",
      "metadata": {
        "execution": {
          "iopub.execute_input": "2021-10-04T10:08:06.481812Z",
          "iopub.status.busy": "2021-10-04T10:08:06.480968Z",
          "iopub.status.idle": "2021-10-04T10:31:31.640063Z",
          "shell.execute_reply": "2021-10-04T10:31:31.639402Z",
          "shell.execute_reply.started": "2021-10-03T10:48:41.565155Z"
        },
        "id": "25862ead",
        "papermill": {
          "duration": 1409.459929,
          "end_time": "2021-10-04T10:31:31.640203",
          "exception": false,
          "start_time": "2021-10-04T10:08:02.180274",
          "status": "completed"
        },
        "tags": []
      },
      "source": [
        "train_embeddings = test_model.predict(train_dataset)"
      ],
      "id": "25862ead",
      "execution_count": null,
      "outputs": []
    },
    {
      "cell_type": "code",
      "metadata": {
        "execution": {
          "iopub.execute_input": "2021-10-04T10:31:39.977689Z",
          "iopub.status.busy": "2021-10-04T10:31:39.977058Z",
          "iopub.status.idle": "2021-10-04T10:31:39.979774Z",
          "shell.execute_reply": "2021-10-04T10:31:39.980206Z",
          "shell.execute_reply.started": "2021-10-03T11:09:05.772209Z"
        },
        "id": "1d485ec3",
        "papermill": {
          "duration": 4.106545,
          "end_time": "2021-10-04T10:31:39.980362",
          "exception": false,
          "start_time": "2021-10-04T10:31:35.873817",
          "status": "completed"
        },
        "tags": [],
        "outputId": "316e866b-0c8e-423f-8c85-e0eb929f3d67"
      },
      "source": [
        "train_embeddings.shape"
      ],
      "id": "1d485ec3",
      "execution_count": null,
      "outputs": [
        {
          "data": {
            "text/plain": [
              "(97556, 64)"
            ]
          },
          "execution_count": 61,
          "metadata": {},
          "output_type": "execute_result"
        }
      ]
    },
    {
      "cell_type": "code",
      "metadata": {
        "execution": {
          "iopub.execute_input": "2021-10-04T10:31:48.190076Z",
          "iopub.status.busy": "2021-10-04T10:31:48.188899Z",
          "iopub.status.idle": "2021-10-04T10:31:48.207075Z",
          "shell.execute_reply": "2021-10-04T10:31:48.206673Z",
          "shell.execute_reply.started": "2021-10-03T11:09:06.890143Z"
        },
        "id": "ab5d5bda",
        "papermill": {
          "duration": 4.014484,
          "end_time": "2021-10-04T10:31:48.207192",
          "exception": false,
          "start_time": "2021-10-04T10:31:44.192708",
          "status": "completed"
        },
        "tags": [],
        "outputId": "3c4cf858-ad95-407f-990b-4b1cad992b10"
      },
      "source": [
        "# normalize the embeddings\n",
        "norm = np.linalg.norm(train_embeddings, axis=1, keepdims=True)\n",
        "train_embeddings = train_embeddings / norm\n",
        "train_embeddings"
      ],
      "id": "ab5d5bda",
      "execution_count": null,
      "outputs": [
        {
          "data": {
            "text/plain": [
              "array([[-0.08717716,  0.10762264, -0.08680208, ..., -0.18619509,\n",
              "         0.12556565,  0.23081702],\n",
              "       [-0.03892954,  0.03222516, -0.02563981, ...,  0.06427424,\n",
              "         0.09676638,  0.06083726],\n",
              "       [-0.01809447, -0.07291162, -0.25887305, ..., -0.14092551,\n",
              "         0.09355071,  0.13503385],\n",
              "       ...,\n",
              "       [-0.04930647,  0.00385415, -0.05029519, ...,  0.03530377,\n",
              "        -0.01853118, -0.03576062],\n",
              "       [-0.25105855, -0.01500414, -0.19516179, ..., -0.02756481,\n",
              "         0.09632821,  0.04732309],\n",
              "       [ 0.15760368, -0.1675404 , -0.2366659 , ...,  0.02785187,\n",
              "        -0.02232282,  0.23777321]], dtype=float32)"
            ]
          },
          "execution_count": 62,
          "metadata": {},
          "output_type": "execute_result"
        }
      ]
    },
    {
      "cell_type": "code",
      "metadata": {
        "execution": {
          "iopub.execute_input": "2021-10-04T10:31:56.608105Z",
          "iopub.status.busy": "2021-10-04T10:31:56.607179Z",
          "iopub.status.idle": "2021-10-04T10:31:56.627081Z",
          "shell.execute_reply": "2021-10-04T10:31:56.626651Z",
          "shell.execute_reply.started": "2021-10-03T11:09:07.88518Z"
        },
        "id": "9e0c8ef6",
        "papermill": {
          "duration": 4.332387,
          "end_time": "2021-10-04T10:31:56.627202",
          "exception": false,
          "start_time": "2021-10-04T10:31:52.294815",
          "status": "completed"
        },
        "tags": []
      },
      "source": [
        "np.save('./train_embeddings.npy',train_embeddings)"
      ],
      "id": "9e0c8ef6",
      "execution_count": null,
      "outputs": []
    },
    {
      "cell_type": "code",
      "metadata": {
        "execution": {
          "iopub.execute_input": "2021-10-04T10:32:05.564043Z",
          "iopub.status.busy": "2021-10-04T10:32:05.563448Z",
          "iopub.status.idle": "2021-10-04T10:32:15.867123Z",
          "shell.execute_reply": "2021-10-04T10:32:15.868991Z",
          "shell.execute_reply.started": "2021-10-03T11:09:09.633718Z"
        },
        "id": "18ead580",
        "papermill": {
          "duration": 14.655554,
          "end_time": "2021-10-04T10:32:15.869304",
          "exception": false,
          "start_time": "2021-10-04T10:32:01.213750",
          "status": "completed"
        },
        "tags": [],
        "outputId": "490e5ca8-755b-42f4-afd0-79d95c1e6430"
      },
      "source": [
        "pip install faiss-cpu"
      ],
      "id": "18ead580",
      "execution_count": null,
      "outputs": [
        {
          "name": "stdout",
          "output_type": "stream",
          "text": [
            "Collecting faiss-cpu\r\n",
            "  Downloading faiss_cpu-1.7.1.post2-cp37-cp37m-manylinux_2_17_x86_64.manylinux2014_x86_64.whl (8.4 MB)\r\n",
            "\u001b[K     |████████████████████████████████| 8.4 MB 601 kB/s \r\n",
            "\u001b[?25hInstalling collected packages: faiss-cpu\r\n",
            "Successfully installed faiss-cpu-1.7.1.post2\r\n",
            "\u001b[33mWARNING: Running pip as the 'root' user can result in broken permissions and conflicting behaviour with the system package manager. It is recommended to use a virtual environment instead: https://pip.pypa.io/warnings/venv\u001b[0m\r\n",
            "Note: you may need to restart the kernel to use updated packages.\n"
          ]
        }
      ]
    },
    {
      "cell_type": "code",
      "metadata": {
        "execution": {
          "iopub.execute_input": "2021-10-04T10:32:24.216535Z",
          "iopub.status.busy": "2021-10-04T10:32:24.215743Z",
          "iopub.status.idle": "2021-10-04T10:32:24.244452Z",
          "shell.execute_reply": "2021-10-04T10:32:24.244899Z",
          "shell.execute_reply.started": "2021-10-03T11:09:22.71831Z"
        },
        "id": "05a2fcbd",
        "papermill": {
          "duration": 4.090446,
          "end_time": "2021-10-04T10:32:24.245047",
          "exception": false,
          "start_time": "2021-10-04T10:32:20.154601",
          "status": "completed"
        },
        "tags": []
      },
      "source": [
        "import faiss"
      ],
      "id": "05a2fcbd",
      "execution_count": null,
      "outputs": []
    },
    {
      "cell_type": "code",
      "metadata": {
        "execution": {
          "iopub.execute_input": "2021-10-04T10:32:33.177562Z",
          "iopub.status.busy": "2021-10-04T10:32:33.176582Z",
          "iopub.status.idle": "2021-10-04T10:32:33.192595Z",
          "shell.execute_reply": "2021-10-04T10:32:33.192073Z",
          "shell.execute_reply.started": "2021-10-03T11:09:23.925074Z"
        },
        "id": "58a8b7fb",
        "papermill": {
          "duration": 4.631976,
          "end_time": "2021-10-04T10:32:33.192721",
          "exception": false,
          "start_time": "2021-10-04T10:32:28.560745",
          "status": "completed"
        },
        "tags": []
      },
      "source": [
        "train_embeddings = np.load('./train_embeddings.npy')"
      ],
      "id": "58a8b7fb",
      "execution_count": null,
      "outputs": []
    },
    {
      "cell_type": "code",
      "metadata": {
        "execution": {
          "iopub.execute_input": "2021-10-04T10:32:41.418157Z",
          "iopub.status.busy": "2021-10-04T10:32:41.417282Z",
          "iopub.status.idle": "2021-10-04T10:32:41.419146Z",
          "shell.execute_reply": "2021-10-04T10:32:41.419574Z",
          "shell.execute_reply.started": "2021-10-03T11:09:24.971328Z"
        },
        "id": "cfe2183e",
        "papermill": {
          "duration": 4.223169,
          "end_time": "2021-10-04T10:32:41.419712",
          "exception": false,
          "start_time": "2021-10-04T10:32:37.196543",
          "status": "completed"
        },
        "tags": []
      },
      "source": [
        "#https://github.com/facebookresearch/faiss/wiki/Faiss-building-blocks:-clustering,-PCA,-quantization\n",
        "#https://towardsdatascience.com/understanding-faiss-619bb6db2d1a\n",
        "#https://www.programcreek.com/python/example/112284/faiss.Clustering\n",
        "dim = train_embeddings.shape[1]\n",
        "n_centroids = 7770\n",
        "n_iter = 20\n",
        "verbose = True"
      ],
      "id": "cfe2183e",
      "execution_count": null,
      "outputs": []
    },
    {
      "cell_type": "code",
      "metadata": {
        "execution": {
          "iopub.execute_input": "2021-10-04T10:32:49.747426Z",
          "iopub.status.busy": "2021-10-04T10:32:49.746596Z",
          "iopub.status.idle": "2021-10-04T10:33:47.989609Z",
          "shell.execute_reply": "2021-10-04T10:33:47.990370Z",
          "shell.execute_reply.started": "2021-10-03T11:09:27.144268Z"
        },
        "id": "dfe9784b",
        "papermill": {
          "duration": 62.486519,
          "end_time": "2021-10-04T10:33:47.990572",
          "exception": false,
          "start_time": "2021-10-04T10:32:45.504053",
          "status": "completed"
        },
        "tags": [],
        "outputId": "b2dd609b-843b-46c7-f6b3-1210e79f34d3"
      },
      "source": [
        "kmeans = faiss.Kmeans(dim, n_centroids, niter=n_iter, verbose=verbose)\n",
        "kmeans.train(train_embeddings)"
      ],
      "id": "dfe9784b",
      "execution_count": null,
      "outputs": [
        {
          "name": "stderr",
          "output_type": "stream",
          "text": [
            "WARNING clustering 97556 points to 7770 centroids: please provide at least 303030 training points\n"
          ]
        },
        {
          "name": "stdout",
          "output_type": "stream",
          "text": [
            "Clustering 97556 points in 64D to 7770 clusters, redo 1 times, 20 iterations\n",
            "  Preprocessing in 0.01 s\n",
            "  Iteration 19 (58.23 s, search 58.10 s): objective=21634.1 imbalance=1.404 nsplit=0       \r"
          ]
        },
        {
          "data": {
            "text/plain": [
              "21634.09765625"
            ]
          },
          "execution_count": 68,
          "metadata": {},
          "output_type": "execute_result"
        }
      ]
    },
    {
      "cell_type": "code",
      "metadata": {
        "execution": {
          "iopub.execute_input": "2021-10-04T10:33:56.385059Z",
          "iopub.status.busy": "2021-10-04T10:33:56.383516Z",
          "iopub.status.idle": "2021-10-04T10:33:56.387215Z",
          "shell.execute_reply": "2021-10-04T10:33:56.386786Z",
          "shell.execute_reply.started": "2021-10-03T11:10:33.027642Z"
        },
        "id": "842a4ba1",
        "papermill": {
          "duration": 4.291439,
          "end_time": "2021-10-04T10:33:56.387342",
          "exception": false,
          "start_time": "2021-10-04T10:33:52.095903",
          "status": "completed"
        },
        "tags": [],
        "outputId": "30e91a30-afc4-45b6-f49e-902858314577"
      },
      "source": [
        "# the error after training for n iterations\n",
        "kmeans.obj[-1]"
      ],
      "id": "842a4ba1",
      "execution_count": null,
      "outputs": [
        {
          "data": {
            "text/plain": [
              "21634.09765625"
            ]
          },
          "execution_count": 69,
          "metadata": {},
          "output_type": "execute_result"
        }
      ]
    },
    {
      "cell_type": "code",
      "metadata": {
        "execution": {
          "iopub.execute_input": "2021-10-04T10:34:04.480074Z",
          "iopub.status.busy": "2021-10-04T10:34:04.478464Z",
          "iopub.status.idle": "2021-10-04T10:34:04.480668Z",
          "shell.execute_reply": "2021-10-04T10:34:04.481065Z",
          "shell.execute_reply.started": "2021-10-03T11:10:34.046623Z"
        },
        "id": "548bb808",
        "papermill": {
          "duration": 3.998933,
          "end_time": "2021-10-04T10:34:04.481198",
          "exception": false,
          "start_time": "2021-10-04T10:34:00.482265",
          "status": "completed"
        },
        "tags": []
      },
      "source": [
        "with open(\"./kmeans_error.pkl\", \"wb\") as f:\n",
        "    pickle.dump(kmeans.obj[-1], f)"
      ],
      "id": "548bb808",
      "execution_count": null,
      "outputs": []
    },
    {
      "cell_type": "code",
      "metadata": {
        "execution": {
          "iopub.execute_input": "2021-10-04T10:34:13.308236Z",
          "iopub.status.busy": "2021-10-04T10:34:13.307269Z",
          "iopub.status.idle": "2021-10-04T10:34:16.146993Z",
          "shell.execute_reply": "2021-10-04T10:34:16.147512Z",
          "shell.execute_reply.started": "2021-10-03T11:10:42.952465Z"
        },
        "id": "e292124c",
        "papermill": {
          "duration": 7.457099,
          "end_time": "2021-10-04T10:34:16.147699",
          "exception": false,
          "start_time": "2021-10-04T10:34:08.690600",
          "status": "completed"
        },
        "tags": []
      },
      "source": [
        "centroid_train_distance, centroid_train_index = kmeans.index.search(train_embeddings, 1)"
      ],
      "id": "e292124c",
      "execution_count": null,
      "outputs": []
    },
    {
      "cell_type": "code",
      "metadata": {
        "execution": {
          "iopub.execute_input": "2021-10-04T10:34:24.469773Z",
          "iopub.status.busy": "2021-10-04T10:34:24.468969Z",
          "iopub.status.idle": "2021-10-04T10:34:24.471789Z",
          "shell.execute_reply": "2021-10-04T10:34:24.472243Z",
          "shell.execute_reply.started": "2021-10-03T11:10:47.516026Z"
        },
        "id": "67240450",
        "papermill": {
          "duration": 4.059454,
          "end_time": "2021-10-04T10:34:24.472393",
          "exception": false,
          "start_time": "2021-10-04T10:34:20.412939",
          "status": "completed"
        },
        "tags": [],
        "outputId": "c248cb24-9087-4186-b05d-9b59498e17ab"
      },
      "source": [
        "centroid_train_distance.shape"
      ],
      "id": "67240450",
      "execution_count": null,
      "outputs": [
        {
          "data": {
            "text/plain": [
              "(97556, 1)"
            ]
          },
          "execution_count": 72,
          "metadata": {},
          "output_type": "execute_result"
        }
      ]
    },
    {
      "cell_type": "code",
      "metadata": {
        "execution": {
          "iopub.execute_input": "2021-10-04T10:34:32.767745Z",
          "iopub.status.busy": "2021-10-04T10:34:32.767040Z",
          "iopub.status.idle": "2021-10-04T10:34:32.769796Z",
          "shell.execute_reply": "2021-10-04T10:34:32.770208Z",
          "shell.execute_reply.started": "2021-10-03T11:10:48.418761Z"
        },
        "id": "a79509e0",
        "papermill": {
          "duration": 4.087804,
          "end_time": "2021-10-04T10:34:32.770368",
          "exception": false,
          "start_time": "2021-10-04T10:34:28.682564",
          "status": "completed"
        },
        "tags": [],
        "outputId": "0f86a79a-5c5c-4425-9e71-bb6a5d575f9d"
      },
      "source": [
        "kmeans.centroids.shape"
      ],
      "id": "a79509e0",
      "execution_count": null,
      "outputs": [
        {
          "data": {
            "text/plain": [
              "(7770, 64)"
            ]
          },
          "execution_count": 73,
          "metadata": {},
          "output_type": "execute_result"
        }
      ]
    },
    {
      "cell_type": "code",
      "metadata": {
        "execution": {
          "iopub.execute_input": "2021-10-04T10:34:41.138750Z",
          "iopub.status.busy": "2021-10-04T10:34:41.137902Z",
          "iopub.status.idle": "2021-10-04T10:34:41.140075Z",
          "shell.execute_reply": "2021-10-04T10:34:41.140494Z",
          "shell.execute_reply.started": "2021-10-03T11:10:49.4265Z"
        },
        "id": "3b94a631",
        "papermill": {
          "duration": 4.365986,
          "end_time": "2021-10-04T10:34:41.140657",
          "exception": false,
          "start_time": "2021-10-04T10:34:36.774671",
          "status": "completed"
        },
        "tags": []
      },
      "source": [
        "kmeans_index = faiss.IndexFlatL2(dim)\n",
        "kmeans_index.add(kmeans.centroids)"
      ],
      "id": "3b94a631",
      "execution_count": null,
      "outputs": []
    },
    {
      "cell_type": "code",
      "metadata": {
        "execution": {
          "iopub.execute_input": "2021-10-04T10:34:49.653827Z",
          "iopub.status.busy": "2021-10-04T10:34:49.652112Z",
          "iopub.status.idle": "2021-10-04T10:34:49.656608Z",
          "shell.execute_reply": "2021-10-04T10:34:49.656154Z",
          "shell.execute_reply.started": "2021-10-03T11:10:51.869396Z"
        },
        "id": "43ae0fec",
        "papermill": {
          "duration": 4.022078,
          "end_time": "2021-10-04T10:34:49.656731",
          "exception": false,
          "start_time": "2021-10-04T10:34:45.634653",
          "status": "completed"
        },
        "tags": []
      },
      "source": [
        "faiss.write_index(kmeans_index, \"./kmeans_trained.index\")"
      ],
      "id": "43ae0fec",
      "execution_count": null,
      "outputs": []
    },
    {
      "cell_type": "code",
      "metadata": {
        "execution": {
          "iopub.execute_input": "2021-10-04T10:34:57.979560Z",
          "iopub.status.busy": "2021-10-04T10:34:57.978190Z",
          "iopub.status.idle": "2021-10-04T10:34:57.982572Z",
          "shell.execute_reply": "2021-10-04T10:34:57.982086Z",
          "shell.execute_reply.started": "2021-10-03T11:10:52.87549Z"
        },
        "id": "0f89c900",
        "papermill": {
          "duration": 4.032746,
          "end_time": "2021-10-04T10:34:57.982695",
          "exception": false,
          "start_time": "2021-10-04T10:34:53.949949",
          "status": "completed"
        },
        "tags": []
      },
      "source": [
        "kmeans_index = faiss.read_index(\"./kmeans_trained.index\")"
      ],
      "id": "0f89c900",
      "execution_count": null,
      "outputs": []
    },
    {
      "cell_type": "code",
      "metadata": {
        "execution": {
          "iopub.execute_input": "2021-10-04T10:35:06.270295Z",
          "iopub.status.busy": "2021-10-04T10:35:06.269197Z",
          "iopub.status.idle": "2021-10-04T10:35:06.270823Z",
          "shell.execute_reply": "2021-10-04T10:35:06.269765Z",
          "shell.execute_reply.started": "2021-10-03T11:11:01.851084Z"
        },
        "id": "ba89ecd4",
        "papermill": {
          "duration": 4.053345,
          "end_time": "2021-10-04T10:35:06.270947",
          "exception": false,
          "start_time": "2021-10-04T10:35:02.217602",
          "status": "completed"
        },
        "tags": []
      },
      "source": [
        "centroid_test_distance, centroid_test_index = kmeans_index.search(test_embeddings, 5)"
      ],
      "id": "ba89ecd4",
      "execution_count": null,
      "outputs": []
    },
    {
      "cell_type": "code",
      "metadata": {
        "execution": {
          "iopub.execute_input": "2021-10-04T10:35:14.526843Z",
          "iopub.status.busy": "2021-10-04T10:35:14.526070Z",
          "iopub.status.idle": "2021-10-04T10:35:14.528869Z",
          "shell.execute_reply": "2021-10-04T10:35:14.529371Z",
          "shell.execute_reply.started": "2021-10-03T11:11:02.932125Z"
        },
        "id": "63f31104",
        "papermill": {
          "duration": 4.296753,
          "end_time": "2021-10-04T10:35:14.529516",
          "exception": false,
          "start_time": "2021-10-04T10:35:10.232763",
          "status": "completed"
        },
        "tags": [],
        "outputId": "5babc6a9-d0a6-4803-ea1f-6d76e50b3460"
      },
      "source": [
        "centroid_test_distance.shape"
      ],
      "id": "63f31104",
      "execution_count": null,
      "outputs": [
        {
          "data": {
            "text/plain": [
              "(1, 5)"
            ]
          },
          "execution_count": 78,
          "metadata": {},
          "output_type": "execute_result"
        }
      ]
    },
    {
      "cell_type": "code",
      "metadata": {
        "execution": {
          "iopub.execute_input": "2021-10-04T10:35:23.107515Z",
          "iopub.status.busy": "2021-10-04T10:35:23.106638Z",
          "iopub.status.idle": "2021-10-04T10:35:23.111157Z",
          "shell.execute_reply": "2021-10-04T10:35:23.111738Z",
          "shell.execute_reply.started": "2021-10-03T11:11:03.911317Z"
        },
        "id": "b623aabb",
        "papermill": {
          "duration": 4.103081,
          "end_time": "2021-10-04T10:35:23.111940",
          "exception": false,
          "start_time": "2021-10-04T10:35:19.008859",
          "status": "completed"
        },
        "tags": [],
        "outputId": "11dede6f-9aab-47c7-af67-6c217c8af87c"
      },
      "source": [
        "centroid_test_distance"
      ],
      "id": "b623aabb",
      "execution_count": null,
      "outputs": [
        {
          "data": {
            "text/plain": [
              "array([[0.27657792, 0.305875  , 0.32000795, 0.3268667 , 0.3280405 ]],\n",
              "      dtype=float32)"
            ]
          },
          "execution_count": 79,
          "metadata": {},
          "output_type": "execute_result"
        }
      ]
    },
    {
      "cell_type": "code",
      "metadata": {
        "execution": {
          "iopub.execute_input": "2021-10-04T10:35:31.270330Z",
          "iopub.status.busy": "2021-10-04T10:35:31.269655Z",
          "iopub.status.idle": "2021-10-04T10:35:31.272441Z",
          "shell.execute_reply": "2021-10-04T10:35:31.272841Z",
          "shell.execute_reply.started": "2021-10-03T11:11:04.800378Z"
        },
        "id": "dc3eaa68",
        "papermill": {
          "duration": 3.996065,
          "end_time": "2021-10-04T10:35:31.272982",
          "exception": false,
          "start_time": "2021-10-04T10:35:27.276917",
          "status": "completed"
        },
        "tags": [],
        "outputId": "b0af851d-66e8-4c82-e6c4-f69bfeec6f80"
      },
      "source": [
        "centroid_test_index"
      ],
      "id": "dc3eaa68",
      "execution_count": null,
      "outputs": [
        {
          "data": {
            "text/plain": [
              "array([[4328, 2160,  378, 7584, 1590]])"
            ]
          },
          "execution_count": 80,
          "metadata": {},
          "output_type": "execute_result"
        }
      ]
    },
    {
      "cell_type": "code",
      "metadata": {
        "execution": {
          "iopub.execute_input": "2021-10-04T10:35:39.567174Z",
          "iopub.status.busy": "2021-10-04T10:35:39.566327Z",
          "iopub.status.idle": "2021-10-04T10:35:39.569302Z",
          "shell.execute_reply": "2021-10-04T10:35:39.568822Z",
          "shell.execute_reply.started": "2021-10-03T11:11:05.853805Z"
        },
        "id": "41cea09b",
        "papermill": {
          "duration": 3.995952,
          "end_time": "2021-10-04T10:35:39.569420",
          "exception": false,
          "start_time": "2021-10-04T10:35:35.573468",
          "status": "completed"
        },
        "tags": []
      },
      "source": [
        "with open('./labelencoder.pkl', \"rb\") as input_file:\n",
        "    le = pickle.load(input_file)"
      ],
      "id": "41cea09b",
      "execution_count": null,
      "outputs": []
    },
    {
      "cell_type": "code",
      "metadata": {
        "execution": {
          "iopub.execute_input": "2021-10-04T10:35:48.044177Z",
          "iopub.status.busy": "2021-10-04T10:35:48.043640Z",
          "iopub.status.idle": "2021-10-04T10:35:48.049614Z",
          "shell.execute_reply": "2021-10-04T10:35:48.050054Z",
          "shell.execute_reply.started": "2021-10-03T11:11:11.019385Z"
        },
        "id": "319340e8",
        "papermill": {
          "duration": 4.403831,
          "end_time": "2021-10-04T10:35:48.050195",
          "exception": false,
          "start_time": "2021-10-04T10:35:43.646364",
          "status": "completed"
        },
        "tags": [],
        "outputId": "4eef681a-02f4-4f97-a8f7-f959d47b60e5"
      },
      "source": [
        "actual_output_labels = le.inverse_transform(centroid_test_index[0])\n",
        "actual_output_labels"
      ],
      "id": "319340e8",
      "execution_count": null,
      "outputs": [
        {
          "data": {
            "text/plain": [
              "array([36684, 17808,  3123, 64156, 13388])"
            ]
          },
          "execution_count": 82,
          "metadata": {},
          "output_type": "execute_result"
        }
      ]
    },
    {
      "cell_type": "code",
      "metadata": {
        "execution": {
          "iopub.execute_input": "2021-10-04T10:35:57.061191Z",
          "iopub.status.busy": "2021-10-04T10:35:57.060301Z",
          "iopub.status.idle": "2021-10-04T10:35:57.062131Z",
          "shell.execute_reply": "2021-10-04T10:35:57.062549Z",
          "shell.execute_reply.started": "2021-10-03T11:11:13.16328Z"
        },
        "id": "dec3b950",
        "papermill": {
          "duration": 4.439753,
          "end_time": "2021-10-04T10:35:57.062688",
          "exception": false,
          "start_time": "2021-10-04T10:35:52.622935",
          "status": "completed"
        },
        "tags": []
      },
      "source": [
        "def predict(X):\n",
        "    \n",
        "    image = tf.io.read_file(X)\n",
        "    \n",
        "    image = tf.image.decode_jpeg(image, channels=3)\n",
        "    \n",
        "    image = tf.image.resize(image, [64,64])\n",
        "    \n",
        "    image = tf.cast(image, tf.float32)\n",
        "    \n",
        "    image /= 255.0\n",
        "    \n",
        "    image = np.expand_dims(image,0)\n",
        "    \n",
        "    test_model = tf.lite.Interpreter('./test_model_tflite')\n",
        "    \n",
        "    test_model.allocate_tensors()\n",
        "    \n",
        "    details_input = test_model.get_input_details()\n",
        "\n",
        "    details_output = test_model.get_output_details()\n",
        "    \n",
        "    test_model.set_tensor(details_input[0]['index'], image)\n",
        "    \n",
        "    test_model.invoke()\n",
        "    \n",
        "    test_embeddings = test_model.get_tensor(details_output[0]['index'])\n",
        "    \n",
        "    norm = np.linalg.norm(test_embeddings, axis=1, keepdims=True)\n",
        "    test_embeddings = test_embeddings / norm\n",
        "    \n",
        "    index = faiss.read_index(\"./kmeans_trained.index\")\n",
        "    \n",
        "    distances, indices = index.search(test_embeds,5)\n",
        "    \n",
        "    with open('./labelencoder.pkl', \"rb\") as input_file:\n",
        "        le = pickle.load(input_file)\n",
        "    \n",
        "    actual_output_labels = le.inverse_transform(indices[0])\n",
        "    \n",
        "    return list(actual_output_labels),indices\n"
      ],
      "id": "dec3b950",
      "execution_count": null,
      "outputs": []
    },
    {
      "cell_type": "code",
      "metadata": {
        "execution": {
          "iopub.execute_input": "2021-10-04T10:36:05.265540Z",
          "iopub.status.busy": "2021-10-04T10:36:05.264916Z",
          "iopub.status.idle": "2021-10-04T10:36:05.788594Z",
          "shell.execute_reply": "2021-10-04T10:36:05.788086Z",
          "shell.execute_reply.started": "2021-10-03T11:11:14.460065Z"
        },
        "papermill": {
          "duration": 4.708904,
          "end_time": "2021-10-04T10:36:05.788728",
          "exception": false,
          "start_time": "2021-10-04T10:36:01.079824",
          "status": "completed"
        },
        "tags": [],
        "id": "972be840"
      },
      "source": [
        "#from PIL import Image\n",
        "#image = Image.open('../input/hotel-id-2021-fgvc8/test_images/99e91ad5f2870678.jpg')\n",
        "labels_1,indices_1 = predict('../input/hotel-id-2021-fgvc8/test_images/99e91ad5f2870678.jpg')"
      ],
      "id": "972be840",
      "execution_count": null,
      "outputs": []
    },
    {
      "cell_type": "code",
      "metadata": {
        "execution": {
          "iopub.execute_input": "2021-10-04T10:36:14.280183Z",
          "iopub.status.busy": "2021-10-04T10:36:14.279609Z",
          "iopub.status.idle": "2021-10-04T10:36:14.282385Z",
          "shell.execute_reply": "2021-10-04T10:36:14.282819Z",
          "shell.execute_reply.started": "2021-10-03T11:11:15.922281Z"
        },
        "papermill": {
          "duration": 4.054838,
          "end_time": "2021-10-04T10:36:14.282953",
          "exception": false,
          "start_time": "2021-10-04T10:36:10.228115",
          "status": "completed"
        },
        "tags": [],
        "id": "35e97f32",
        "outputId": "5681aa7d-72b7-43fb-c07f-c33c8a2d5ac2"
      },
      "source": [
        "labels_1, indices_1"
      ],
      "id": "35e97f32",
      "execution_count": null,
      "outputs": [
        {
          "data": {
            "text/plain": [
              "([36684, 17808, 3123, 64156, 13388], array([[4328, 2160,  378, 7584, 1590]]))"
            ]
          },
          "execution_count": 85,
          "metadata": {},
          "output_type": "execute_result"
        }
      ]
    },
    {
      "cell_type": "code",
      "metadata": {
        "execution": {
          "iopub.execute_input": "2021-10-04T10:36:22.947233Z",
          "iopub.status.busy": "2021-10-04T10:36:22.946301Z",
          "iopub.status.idle": "2021-10-04T10:36:23.468433Z",
          "shell.execute_reply": "2021-10-04T10:36:23.467926Z",
          "shell.execute_reply.started": "2021-10-03T11:11:16.817245Z"
        },
        "papermill": {
          "duration": 4.870729,
          "end_time": "2021-10-04T10:36:23.468576",
          "exception": false,
          "start_time": "2021-10-04T10:36:18.597847",
          "status": "completed"
        },
        "tags": [],
        "id": "17796537"
      },
      "source": [
        "#from PIL import Image\n",
        "#image = Image.open('../input/hotel-id-2021-fgvc8/test_images/99e91ad5f2870678.jpg')\n",
        "labels_2,indices_2 = predict('../input/hotel-id-2021-fgvc8/test_images/b5cc62ab665591a9.jpg')"
      ],
      "id": "17796537",
      "execution_count": null,
      "outputs": []
    },
    {
      "cell_type": "code",
      "metadata": {
        "execution": {
          "iopub.execute_input": "2021-10-04T10:36:31.803824Z",
          "iopub.status.busy": "2021-10-04T10:36:31.803267Z",
          "iopub.status.idle": "2021-10-04T10:36:31.805897Z",
          "shell.execute_reply": "2021-10-04T10:36:31.806312Z",
          "shell.execute_reply.started": "2021-10-03T11:11:18.278314Z"
        },
        "papermill": {
          "duration": 4.258044,
          "end_time": "2021-10-04T10:36:31.806446",
          "exception": false,
          "start_time": "2021-10-04T10:36:27.548402",
          "status": "completed"
        },
        "tags": [],
        "id": "ad5c0c9e",
        "outputId": "45c32d2c-b4b7-47d4-d5bf-2ba961c68ba8"
      },
      "source": [
        "labels_2, indices_2"
      ],
      "id": "ad5c0c9e",
      "execution_count": null,
      "outputs": [
        {
          "data": {
            "text/plain": [
              "([29194, 23766, 30686, 35981, 59188], array([[3487, 2865, 3652, 4239, 7012]]))"
            ]
          },
          "execution_count": 87,
          "metadata": {},
          "output_type": "execute_result"
        }
      ]
    },
    {
      "cell_type": "code",
      "metadata": {
        "execution": {
          "iopub.execute_input": "2021-10-04T10:36:40.065211Z",
          "iopub.status.busy": "2021-10-04T10:36:40.064653Z",
          "iopub.status.idle": "2021-10-04T10:36:40.486906Z",
          "shell.execute_reply": "2021-10-04T10:36:40.486194Z",
          "shell.execute_reply.started": "2021-10-03T11:11:19.270925Z"
        },
        "papermill": {
          "duration": 4.560147,
          "end_time": "2021-10-04T10:36:40.487042",
          "exception": false,
          "start_time": "2021-10-04T10:36:35.926895",
          "status": "completed"
        },
        "tags": [],
        "id": "ce783612"
      },
      "source": [
        "#from PIL import Image\n",
        "#image = Image.open('../input/hotel-id-2021-fgvc8/test_images/99e91ad5f2870678.jpg')\n",
        "labels_3,indices_3 = predict('../input/hotel-id-2021-fgvc8/test_images/d5664a972d5a644b.jpg')"
      ],
      "id": "ce783612",
      "execution_count": null,
      "outputs": []
    },
    {
      "cell_type": "code",
      "metadata": {
        "execution": {
          "iopub.execute_input": "2021-10-04T10:36:48.559568Z",
          "iopub.status.busy": "2021-10-04T10:36:48.558390Z",
          "iopub.status.idle": "2021-10-04T10:36:48.561916Z",
          "shell.execute_reply": "2021-10-04T10:36:48.561514Z",
          "shell.execute_reply.started": "2021-10-03T11:11:20.664542Z"
        },
        "papermill": {
          "duration": 4.065119,
          "end_time": "2021-10-04T10:36:48.562025",
          "exception": false,
          "start_time": "2021-10-04T10:36:44.496906",
          "status": "completed"
        },
        "tags": [],
        "id": "5a52db82",
        "outputId": "aaa077ae-5cb7-481e-f571-530c7c456a39"
      },
      "source": [
        "labels_3, indices_3"
      ],
      "id": "5a52db82",
      "execution_count": null,
      "outputs": [
        {
          "data": {
            "text/plain": [
              "([53812, 44260, 17090, 54906, 5168], array([[6360, 5247, 2058, 6510,  631]]))"
            ]
          },
          "execution_count": 89,
          "metadata": {},
          "output_type": "execute_result"
        }
      ]
    },
    {
      "cell_type": "code",
      "metadata": {
        "execution": {
          "iopub.execute_input": "2021-10-04T10:36:57.419734Z",
          "iopub.status.busy": "2021-10-04T10:36:57.418871Z",
          "iopub.status.idle": "2021-10-04T10:36:57.420848Z",
          "shell.execute_reply": "2021-10-04T10:36:57.421284Z",
          "shell.execute_reply.started": "2021-10-03T11:11:21.861143Z"
        },
        "papermill": {
          "duration": 4.606177,
          "end_time": "2021-10-04T10:36:57.421443",
          "exception": false,
          "start_time": "2021-10-04T10:36:52.815266",
          "status": "completed"
        },
        "tags": [],
        "id": "33f58b05"
      },
      "source": [
        "sub_dict = {\n",
        "    'image':['99e91ad5f2870678.jpg','b5cc62ab665591a9.jpg', 'd5664a972d5a644b.jpg'],\n",
        "    'hotel_id':[labels_1, labels_2, labels_3]\n",
        "}"
      ],
      "id": "33f58b05",
      "execution_count": null,
      "outputs": []
    },
    {
      "cell_type": "code",
      "metadata": {
        "execution": {
          "iopub.execute_input": "2021-10-04T10:37:05.644034Z",
          "iopub.status.busy": "2021-10-04T10:37:05.643293Z",
          "iopub.status.idle": "2021-10-04T10:37:05.645957Z",
          "shell.execute_reply": "2021-10-04T10:37:05.646368Z",
          "shell.execute_reply.started": "2021-10-03T11:11:22.853019Z"
        },
        "papermill": {
          "duration": 4.232134,
          "end_time": "2021-10-04T10:37:05.646503",
          "exception": false,
          "start_time": "2021-10-04T10:37:01.414369",
          "status": "completed"
        },
        "tags": [],
        "id": "e1701cca",
        "outputId": "d3b6a3f2-0725-499f-aedb-fa574556f735"
      },
      "source": [
        "sub_dict"
      ],
      "id": "e1701cca",
      "execution_count": null,
      "outputs": [
        {
          "data": {
            "text/plain": [
              "{'image': ['99e91ad5f2870678.jpg',\n",
              "  'b5cc62ab665591a9.jpg',\n",
              "  'd5664a972d5a644b.jpg'],\n",
              " 'hotel_id': [[36684, 17808, 3123, 64156, 13388],\n",
              "  [29194, 23766, 30686, 35981, 59188],\n",
              "  [53812, 44260, 17090, 54906, 5168]]}"
            ]
          },
          "execution_count": 91,
          "metadata": {},
          "output_type": "execute_result"
        }
      ]
    },
    {
      "cell_type": "code",
      "metadata": {
        "execution": {
          "iopub.execute_input": "2021-10-04T10:37:14.012057Z",
          "iopub.status.busy": "2021-10-04T10:37:14.010824Z",
          "iopub.status.idle": "2021-10-04T10:37:14.014336Z",
          "shell.execute_reply": "2021-10-04T10:37:14.014706Z",
          "shell.execute_reply.started": "2021-10-03T11:11:23.874323Z"
        },
        "papermill": {
          "duration": 4.278191,
          "end_time": "2021-10-04T10:37:14.014844",
          "exception": false,
          "start_time": "2021-10-04T10:37:09.736653",
          "status": "completed"
        },
        "tags": [],
        "id": "323442ce",
        "outputId": "aac8b57a-3d07-4b84-d4ee-8ee7cb920325"
      },
      "source": [
        "new = pd.DataFrame.from_dict(sub_dict)\n",
        "  \n",
        "new.head()"
      ],
      "id": "323442ce",
      "execution_count": null,
      "outputs": [
        {
          "data": {
            "text/html": [
              "<div>\n",
              "<style scoped>\n",
              "    .dataframe tbody tr th:only-of-type {\n",
              "        vertical-align: middle;\n",
              "    }\n",
              "\n",
              "    .dataframe tbody tr th {\n",
              "        vertical-align: top;\n",
              "    }\n",
              "\n",
              "    .dataframe thead th {\n",
              "        text-align: right;\n",
              "    }\n",
              "</style>\n",
              "<table border=\"1\" class=\"dataframe\">\n",
              "  <thead>\n",
              "    <tr style=\"text-align: right;\">\n",
              "      <th></th>\n",
              "      <th>image</th>\n",
              "      <th>hotel_id</th>\n",
              "    </tr>\n",
              "  </thead>\n",
              "  <tbody>\n",
              "    <tr>\n",
              "      <th>0</th>\n",
              "      <td>99e91ad5f2870678.jpg</td>\n",
              "      <td>[36684, 17808, 3123, 64156, 13388]</td>\n",
              "    </tr>\n",
              "    <tr>\n",
              "      <th>1</th>\n",
              "      <td>b5cc62ab665591a9.jpg</td>\n",
              "      <td>[29194, 23766, 30686, 35981, 59188]</td>\n",
              "    </tr>\n",
              "    <tr>\n",
              "      <th>2</th>\n",
              "      <td>d5664a972d5a644b.jpg</td>\n",
              "      <td>[53812, 44260, 17090, 54906, 5168]</td>\n",
              "    </tr>\n",
              "  </tbody>\n",
              "</table>\n",
              "</div>"
            ],
            "text/plain": [
              "                  image                             hotel_id\n",
              "0  99e91ad5f2870678.jpg   [36684, 17808, 3123, 64156, 13388]\n",
              "1  b5cc62ab665591a9.jpg  [29194, 23766, 30686, 35981, 59188]\n",
              "2  d5664a972d5a644b.jpg   [53812, 44260, 17090, 54906, 5168]"
            ]
          },
          "execution_count": 92,
          "metadata": {},
          "output_type": "execute_result"
        }
      ]
    },
    {
      "cell_type": "code",
      "metadata": {
        "execution": {
          "iopub.execute_input": "2021-10-04T10:37:22.153961Z",
          "iopub.status.busy": "2021-10-04T10:37:22.153066Z",
          "iopub.status.idle": "2021-10-04T10:37:22.158427Z",
          "shell.execute_reply": "2021-10-04T10:37:22.157997Z",
          "shell.execute_reply.started": "2021-10-03T11:11:25.164284Z"
        },
        "papermill": {
          "duration": 4.042173,
          "end_time": "2021-10-04T10:37:22.158554",
          "exception": false,
          "start_time": "2021-10-04T10:37:18.116381",
          "status": "completed"
        },
        "tags": [],
        "id": "0cfe063d"
      },
      "source": [
        "new.to_csv(\"./submission.csv\",index=False)"
      ],
      "id": "0cfe063d",
      "execution_count": null,
      "outputs": []
    },
    {
      "cell_type": "code",
      "metadata": {
        "execution": {
          "iopub.execute_input": "2021-10-04T10:37:31.045048Z",
          "iopub.status.busy": "2021-10-04T10:37:31.044451Z",
          "iopub.status.idle": "2021-10-04T10:37:31.049312Z",
          "shell.execute_reply": "2021-10-04T10:37:31.049864Z",
          "shell.execute_reply.started": "2021-10-03T11:12:01.886778Z"
        },
        "papermill": {
          "duration": 4.618172,
          "end_time": "2021-10-04T10:37:31.050025",
          "exception": false,
          "start_time": "2021-10-04T10:37:26.431853",
          "status": "completed"
        },
        "tags": [],
        "id": "25853a82",
        "outputId": "e20aa633-edce-476d-b1b2-a38e7422872f"
      },
      "source": [
        "sub = pd.read_csv(\"./submission.csv\")\n",
        "sub.head()"
      ],
      "id": "25853a82",
      "execution_count": null,
      "outputs": [
        {
          "data": {
            "text/html": [
              "<div>\n",
              "<style scoped>\n",
              "    .dataframe tbody tr th:only-of-type {\n",
              "        vertical-align: middle;\n",
              "    }\n",
              "\n",
              "    .dataframe tbody tr th {\n",
              "        vertical-align: top;\n",
              "    }\n",
              "\n",
              "    .dataframe thead th {\n",
              "        text-align: right;\n",
              "    }\n",
              "</style>\n",
              "<table border=\"1\" class=\"dataframe\">\n",
              "  <thead>\n",
              "    <tr style=\"text-align: right;\">\n",
              "      <th></th>\n",
              "      <th>image</th>\n",
              "      <th>hotel_id</th>\n",
              "    </tr>\n",
              "  </thead>\n",
              "  <tbody>\n",
              "    <tr>\n",
              "      <th>0</th>\n",
              "      <td>99e91ad5f2870678.jpg</td>\n",
              "      <td>[36684, 17808, 3123, 64156, 13388]</td>\n",
              "    </tr>\n",
              "    <tr>\n",
              "      <th>1</th>\n",
              "      <td>b5cc62ab665591a9.jpg</td>\n",
              "      <td>[29194, 23766, 30686, 35981, 59188]</td>\n",
              "    </tr>\n",
              "    <tr>\n",
              "      <th>2</th>\n",
              "      <td>d5664a972d5a644b.jpg</td>\n",
              "      <td>[53812, 44260, 17090, 54906, 5168]</td>\n",
              "    </tr>\n",
              "  </tbody>\n",
              "</table>\n",
              "</div>"
            ],
            "text/plain": [
              "                  image                             hotel_id\n",
              "0  99e91ad5f2870678.jpg   [36684, 17808, 3123, 64156, 13388]\n",
              "1  b5cc62ab665591a9.jpg  [29194, 23766, 30686, 35981, 59188]\n",
              "2  d5664a972d5a644b.jpg   [53812, 44260, 17090, 54906, 5168]"
            ]
          },
          "execution_count": 94,
          "metadata": {},
          "output_type": "execute_result"
        }
      ]
    },
    {
      "cell_type": "code",
      "metadata": {
        "colab": {
          "base_uri": "https://localhost:8080/"
        },
        "id": "5hhSzOlEmtXq",
        "outputId": "eed23a56-56a6-429e-a043-4ca1a5ccdfa6"
      },
      "source": [
        "from prettytable import PrettyTable\n",
        "  \n",
        "# Specify the Column Names while initializing the Table\n",
        "myTable = PrettyTable([\"Model\", \"Loss\"])\n",
        "  \n",
        "# Add rows\n",
        "myTable.add_row([\"Resnet-50\", \"4.782\"])\n",
        "print(myTable)"
      ],
      "id": "5hhSzOlEmtXq",
      "execution_count": 1,
      "outputs": [
        {
          "output_type": "stream",
          "name": "stdout",
          "text": [
            "+-----------+-------+\n",
            "|   Model   |  Loss |\n",
            "+-----------+-------+\n",
            "| Resnet-50 | 4.782 |\n",
            "+-----------+-------+\n"
          ]
        }
      ]
    },
    {
      "cell_type": "markdown",
      "metadata": {
        "id": "64f33734",
        "papermill": {
          "duration": 4.384715,
          "end_time": "2021-10-04T10:44:26.157356",
          "exception": false,
          "start_time": "2021-10-04T10:44:21.772641",
          "status": "completed"
        },
        "tags": []
      },
      "source": [
        "Refrences\n",
        "1. Data Augmentation is done using this link \n",
        "https://colab.research.google.com/github/tensorflow/docs/blob/master/site/en/tutorials/images/data_augmentation.ipynb\n",
        "\n",
        "2. Effective Training and Debugging of a Neural Networks is done by using this link\n",
        "https://udibhaskar.github.io/practical-ml/debugging%20nn/neural%20network/overfit/underfit/2020/02/03/Effective_Training_and_Debugging_of_a_Neural_Networks.html\n",
        "\n",
        "3. Training an Image Classification Model using TensorFlow Lite usin this link\n",
        "https://heartbeat.comet.ml/training-an-image-classification-model-for-mobile-using-tensorflow-lite-5ad9537841e6\n",
        "\n",
        "4. How to use faiss librabry to find nearest distance and indices of the test embeddings to the centroids\n",
        "https://github.com/facebookresearch/faiss/wiki/Faiss-building-blocks:-clustering,-PCA,-quantization,\n",
        "https://towardsdatascience.com/understanding-faiss-619bb6db2d1a, https://www.programcreek.com/python/example/112284/faiss.Clustering\n",
        "https://ai.plainenglish.io/speeding-up-similarity-search-in-recommender-systems-using-faiss-basics-part-i-ec1b5e92c92d\n",
        "https://ai.plainenglish.io/speeding-up-similarity-search-in-recommender-systems-with-faiss-advanced-concepts-part-ii-95e796a7db74"
      ],
      "id": "64f33734"
    },
    {
      "cell_type": "code",
      "metadata": {
        "papermill": {
          "duration": 4.115775,
          "end_time": "2021-10-04T10:46:00.164783",
          "exception": false,
          "start_time": "2021-10-04T10:45:56.049008",
          "status": "completed"
        },
        "tags": [],
        "id": "843dcad2"
      },
      "source": [
        ""
      ],
      "id": "843dcad2",
      "execution_count": null,
      "outputs": []
    }
  ]
}